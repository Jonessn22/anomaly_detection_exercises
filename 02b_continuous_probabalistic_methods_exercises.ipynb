{
 "cells": [
  {
   "cell_type": "markdown",
   "id": "6a21087f",
   "metadata": {},
   "source": [
    "# Continuous Probabalistic Methods | `Exercises`"
   ]
  },
  {
   "cell_type": "code",
   "execution_count": 28,
   "id": "0c2541fa",
   "metadata": {},
   "outputs": [],
   "source": [
    "import numpy as np\n",
    "import pandas as pd\n",
    "\n",
    "import seaborn as sns\n",
    "import matplotlib.pyplot as plt"
   ]
  },
  {
   "cell_type": "markdown",
   "id": "b9259bce",
   "metadata": {},
   "source": [
    "## 1a. Identify lower outliers\n",
    "Use the **IQR Range Rule** and the upper and lower bounds to identify the lower outliers of each column of `lemonade.csv`, using the multiplier of 1.5. \n",
    "- Do these lower outliers make sense? \n",
    "- Which outliers should be kept?"
   ]
  },
  {
   "cell_type": "code",
   "execution_count": 5,
   "id": "2f032a19",
   "metadata": {},
   "outputs": [],
   "source": [
    "# importing data from url and reading to pandas df\n",
    "url = 'https://gist.githubusercontent.com/ryanorsinger/19bc7eccd6279661bd13307026628ace/raw/e4b5d6787015a4782f96cad6d1d62a8bdbac54c7/lemonade.csv'\n",
    "\n",
    "df = pd.read_csv(url)"
   ]
  },
  {
   "cell_type": "code",
   "execution_count": 6,
   "id": "29bec8d4",
   "metadata": {},
   "outputs": [
    {
     "data": {
      "text/html": [
       "<div>\n",
       "<style scoped>\n",
       "    .dataframe tbody tr th:only-of-type {\n",
       "        vertical-align: middle;\n",
       "    }\n",
       "\n",
       "    .dataframe tbody tr th {\n",
       "        vertical-align: top;\n",
       "    }\n",
       "\n",
       "    .dataframe thead th {\n",
       "        text-align: right;\n",
       "    }\n",
       "</style>\n",
       "<table border=\"1\" class=\"dataframe\">\n",
       "  <thead>\n",
       "    <tr style=\"text-align: right;\">\n",
       "      <th></th>\n",
       "      <th>Date</th>\n",
       "      <th>Day</th>\n",
       "      <th>Temperature</th>\n",
       "      <th>Rainfall</th>\n",
       "      <th>Flyers</th>\n",
       "      <th>Price</th>\n",
       "      <th>Sales</th>\n",
       "    </tr>\n",
       "  </thead>\n",
       "  <tbody>\n",
       "    <tr>\n",
       "      <th>0</th>\n",
       "      <td>1/1/17</td>\n",
       "      <td>Sunday</td>\n",
       "      <td>27.0</td>\n",
       "      <td>2.00</td>\n",
       "      <td>15</td>\n",
       "      <td>0.5</td>\n",
       "      <td>10</td>\n",
       "    </tr>\n",
       "    <tr>\n",
       "      <th>1</th>\n",
       "      <td>1/2/17</td>\n",
       "      <td>Monday</td>\n",
       "      <td>28.9</td>\n",
       "      <td>1.33</td>\n",
       "      <td>15</td>\n",
       "      <td>0.5</td>\n",
       "      <td>13</td>\n",
       "    </tr>\n",
       "    <tr>\n",
       "      <th>2</th>\n",
       "      <td>1/3/17</td>\n",
       "      <td>Tuesday</td>\n",
       "      <td>34.5</td>\n",
       "      <td>1.33</td>\n",
       "      <td>27</td>\n",
       "      <td>0.5</td>\n",
       "      <td>15</td>\n",
       "    </tr>\n",
       "    <tr>\n",
       "      <th>3</th>\n",
       "      <td>1/4/17</td>\n",
       "      <td>Wednesday</td>\n",
       "      <td>44.1</td>\n",
       "      <td>1.05</td>\n",
       "      <td>28</td>\n",
       "      <td>0.5</td>\n",
       "      <td>17</td>\n",
       "    </tr>\n",
       "    <tr>\n",
       "      <th>4</th>\n",
       "      <td>1/5/17</td>\n",
       "      <td>Thursday</td>\n",
       "      <td>42.4</td>\n",
       "      <td>1.00</td>\n",
       "      <td>33</td>\n",
       "      <td>0.5</td>\n",
       "      <td>18</td>\n",
       "    </tr>\n",
       "  </tbody>\n",
       "</table>\n",
       "</div>"
      ],
      "text/plain": [
       "     Date        Day  Temperature  Rainfall  Flyers  Price  Sales\n",
       "0  1/1/17     Sunday         27.0      2.00      15    0.5     10\n",
       "1  1/2/17     Monday         28.9      1.33      15    0.5     13\n",
       "2  1/3/17    Tuesday         34.5      1.33      27    0.5     15\n",
       "3  1/4/17  Wednesday         44.1      1.05      28    0.5     17\n",
       "4  1/5/17   Thursday         42.4      1.00      33    0.5     18"
      ]
     },
     "execution_count": 6,
     "metadata": {},
     "output_type": "execute_result"
    }
   ],
   "source": [
    "# previewing df\n",
    "df.head()"
   ]
  },
  {
   "cell_type": "code",
   "execution_count": 7,
   "id": "f72d62aa",
   "metadata": {},
   "outputs": [
    {
     "name": "stdout",
     "output_type": "stream",
     "text": [
      "<class 'pandas.core.frame.DataFrame'>\n",
      "RangeIndex: 365 entries, 0 to 364\n",
      "Data columns (total 7 columns):\n",
      " #   Column       Non-Null Count  Dtype  \n",
      "---  ------       --------------  -----  \n",
      " 0   Date         365 non-null    object \n",
      " 1   Day          365 non-null    object \n",
      " 2   Temperature  365 non-null    float64\n",
      " 3   Rainfall     365 non-null    float64\n",
      " 4   Flyers       365 non-null    int64  \n",
      " 5   Price        365 non-null    float64\n",
      " 6   Sales        365 non-null    int64  \n",
      "dtypes: float64(3), int64(2), object(2)\n",
      "memory usage: 20.1+ KB\n"
     ]
    }
   ],
   "source": [
    "df.info()"
   ]
  },
  {
   "cell_type": "markdown",
   "id": "304053a9",
   "metadata": {},
   "source": [
    ">DataFrame of mixed dtypes"
   ]
  },
  {
   "cell_type": "code",
   "execution_count": 8,
   "id": "870e6156",
   "metadata": {},
   "outputs": [
    {
     "data": {
      "text/plain": [
       "Temperature    49.70\n",
       "Rainfall        0.65\n",
       "Flyers         31.00\n",
       "Price           0.50\n",
       "Sales          20.00\n",
       "Name: 0.25, dtype: float64"
      ]
     },
     "execution_count": 8,
     "metadata": {},
     "output_type": "execute_result"
    }
   ],
   "source": [
    "# lower quantile range for numeric columns\n",
    "df.quantile(.25)"
   ]
  },
  {
   "cell_type": "code",
   "execution_count": 10,
   "id": "9e21176f",
   "metadata": {},
   "outputs": [
    {
     "data": {
      "text/plain": [
       "Temperature    71.70\n",
       "Rainfall        0.91\n",
       "Flyers         49.00\n",
       "Price           0.50\n",
       "Sales          30.00\n",
       "Name: 0.75, dtype: float64"
      ]
     },
     "execution_count": 10,
     "metadata": {},
     "output_type": "execute_result"
    }
   ],
   "source": [
    "# upper quantile range for numeric columns\n",
    "df.quantile(.75)"
   ]
  },
  {
   "cell_type": "code",
   "execution_count": 11,
   "id": "c0e3006a",
   "metadata": {},
   "outputs": [
    {
     "name": "stdout",
     "output_type": "stream",
     "text": [
      "Temperature\n",
      "Rainfall\n",
      "Flyers\n",
      "Price\n",
      "Sales\n"
     ]
    }
   ],
   "source": [
    "# running a for loop that will loop through each column and print all integer and float dtype columns\n",
    "for col in df:\n",
    "    if (df[col].dtype =='int') | (df[col].dtype == 'float'):\n",
    "        print(col)"
   ]
  },
  {
   "cell_type": "code",
   "execution_count": 12,
   "id": "762bea2b",
   "metadata": {},
   "outputs": [],
   "source": [
    "# saving multiplier to var\n",
    "multiplier = 1.5"
   ]
  },
  {
   "cell_type": "code",
   "execution_count": 13,
   "id": "66f1ab97",
   "metadata": {},
   "outputs": [],
   "source": [
    "# saving the q1 values for each column\n",
    "q1_temp = df.Temperature.quantile(.25)\n",
    "q1_rain = df.Rainfall.quantile(.25)\n",
    "q1_flyer = df.Flyers.quantile(.25)\n",
    "q1_price = df.Price.quantile(.25)\n",
    "q1_sales = df.Sales.quantile(.25)\n",
    "\n",
    "# savings the q3 values for each column\n",
    "q3_temp = df.Temperature.quantile(.75)\n",
    "q3_rain = df.Rainfall.quantile(.75)\n",
    "q3_flyer = df.Flyers.quantile(.75)\n",
    "q3_price = df.Price.quantile(.75)\n",
    "q3_sales = df.Sales.quantile(.75)\n",
    "\n",
    "# calculating and saving the iqr for each column\n",
    "iqr_temp = q3_temp - q1_temp\n",
    "iqr_rain = q3_rain - q1_rain\n",
    "iqr_flyer = q3_flyer - q1_flyer\n",
    "iqr_price = q3_price - q1_price\n",
    "iqr_sales = q3_sales - q1_sales"
   ]
  },
  {
   "cell_type": "code",
   "execution_count": 14,
   "id": "63790d3d",
   "metadata": {},
   "outputs": [],
   "source": [
    "# calculating lower fences\n",
    "inner_lower_fence_temp = q1_temp - (multiplier * iqr_temp)\n",
    "inner_lower_fence_rain = q1_rain - (multiplier * iqr_rain)\n",
    "inner_lower_fence_flyer = q1_flyer - (multiplier * iqr_flyer)\n",
    "inner_lower_fence_price = q1_price - (multiplier * iqr_price)\n",
    "inner_lower_fence_sales = q1_sales - (multiplier * iqr_sales)"
   ]
  },
  {
   "cell_type": "markdown",
   "id": "0fc104bc",
   "metadata": {},
   "source": [
    "#### Lower outliers of each column based on IQR rule..."
   ]
  },
  {
   "cell_type": "code",
   "execution_count": 31,
   "id": "7d7be154",
   "metadata": {},
   "outputs": [],
   "source": [
    "# creating a function that plots a boxplot\n",
    "def boxplot(series):\n",
    "    '''\n",
    "THIS FUNCTION TAKES IN A SERIES OF VALUES AND PLOTS A HORIZONTAL BOXPLOT.\n",
    "    '''\n",
    "    \n",
    "    sns.boxplot(series)\n",
    "    plt.show();"
   ]
  },
  {
   "cell_type": "code",
   "execution_count": 32,
   "id": "ae15cac9",
   "metadata": {},
   "outputs": [
    {
     "data": {
      "text/html": [
       "<div>\n",
       "<style scoped>\n",
       "    .dataframe tbody tr th:only-of-type {\n",
       "        vertical-align: middle;\n",
       "    }\n",
       "\n",
       "    .dataframe tbody tr th {\n",
       "        vertical-align: top;\n",
       "    }\n",
       "\n",
       "    .dataframe thead th {\n",
       "        text-align: right;\n",
       "    }\n",
       "</style>\n",
       "<table border=\"1\" class=\"dataframe\">\n",
       "  <thead>\n",
       "    <tr style=\"text-align: right;\">\n",
       "      <th></th>\n",
       "      <th>Date</th>\n",
       "      <th>Day</th>\n",
       "      <th>Temperature</th>\n",
       "      <th>Rainfall</th>\n",
       "      <th>Flyers</th>\n",
       "      <th>Price</th>\n",
       "      <th>Sales</th>\n",
       "    </tr>\n",
       "  </thead>\n",
       "  <tbody>\n",
       "    <tr>\n",
       "      <th>364</th>\n",
       "      <td>12/31/17</td>\n",
       "      <td>Sunday</td>\n",
       "      <td>15.1</td>\n",
       "      <td>2.5</td>\n",
       "      <td>9</td>\n",
       "      <td>0.5</td>\n",
       "      <td>7</td>\n",
       "    </tr>\n",
       "  </tbody>\n",
       "</table>\n",
       "</div>"
      ],
      "text/plain": [
       "         Date     Day  Temperature  Rainfall  Flyers  Price  Sales\n",
       "364  12/31/17  Sunday         15.1       2.5       9    0.5      7"
      ]
     },
     "execution_count": 32,
     "metadata": {},
     "output_type": "execute_result"
    }
   ],
   "source": [
    "# Temperature lower outliers\n",
    "df[df.Temperature < inner_lower_fence_temp]"
   ]
  },
  {
   "cell_type": "code",
   "execution_count": 33,
   "id": "20b7b25c",
   "metadata": {},
   "outputs": [
    {
     "name": "stderr",
     "output_type": "stream",
     "text": [
      "/usr/local/anaconda3/lib/python3.8/site-packages/seaborn/_decorators.py:36: FutureWarning: Pass the following variable as a keyword arg: x. From version 0.12, the only valid positional argument will be `data`, and passing other arguments without an explicit keyword will result in an error or misinterpretation.\n",
      "  warnings.warn(\n"
     ]
    },
    {
     "data": {
      "image/png": "[encoded data removed]",
      "text/plain": [
       "<Figure size 432x288 with 1 Axes>"
      ]
     },
     "metadata": {
      "needs_background": "light"
     },
     "output_type": "display_data"
    }
   ],
   "source": [
    "boxplot(df.Temperature)"
   ]
  },
  {
   "cell_type": "markdown",
   "id": "27a59c8a",
   "metadata": {},
   "source": [
    ">#### A 15 degree temperature is pretty cold but, because it is in the month of December and still pretty close to the fence, not sure if it makes sense to discard this as an outlier."
   ]
  },
  {
   "cell_type": "code",
   "execution_count": 19,
   "id": "22e41833",
   "metadata": {},
   "outputs": [
    {
     "data": {
      "text/html": [
       "<div>\n",
       "<style scoped>\n",
       "    .dataframe tbody tr th:only-of-type {\n",
       "        vertical-align: middle;\n",
       "    }\n",
       "\n",
       "    .dataframe tbody tr th {\n",
       "        vertical-align: top;\n",
       "    }\n",
       "\n",
       "    .dataframe thead th {\n",
       "        text-align: right;\n",
       "    }\n",
       "</style>\n",
       "<table border=\"1\" class=\"dataframe\">\n",
       "  <thead>\n",
       "    <tr style=\"text-align: right;\">\n",
       "      <th></th>\n",
       "      <th>Date</th>\n",
       "      <th>Day</th>\n",
       "      <th>Temperature</th>\n",
       "      <th>Rainfall</th>\n",
       "      <th>Flyers</th>\n",
       "      <th>Price</th>\n",
       "      <th>Sales</th>\n",
       "    </tr>\n",
       "  </thead>\n",
       "  <tbody>\n",
       "  </tbody>\n",
       "</table>\n",
       "</div>"
      ],
      "text/plain": [
       "Empty DataFrame\n",
       "Columns: [Date, Day, Temperature, Rainfall, Flyers, Price, Sales]\n",
       "Index: []"
      ]
     },
     "execution_count": 19,
     "metadata": {},
     "output_type": "execute_result"
    }
   ],
   "source": [
    "# Rainfall\n",
    "df[df.Rainfall < inner_lower_fence_rain]"
   ]
  },
  {
   "cell_type": "code",
   "execution_count": 34,
   "id": "d8e5a3fd",
   "metadata": {},
   "outputs": [
    {
     "name": "stderr",
     "output_type": "stream",
     "text": [
      "/usr/local/anaconda3/lib/python3.8/site-packages/seaborn/_decorators.py:36: FutureWarning: Pass the following variable as a keyword arg: x. From version 0.12, the only valid positional argument will be `data`, and passing other arguments without an explicit keyword will result in an error or misinterpretation.\n",
      "  warnings.warn(\n"
     ]
    },
    {
     "data": {
      "image/png": "[encoded data removed]",
      "text/plain": [
       "<Figure size 432x288 with 1 Axes>"
      ]
     },
     "metadata": {
      "needs_background": "light"
     },
     "output_type": "display_data"
    }
   ],
   "source": [
    "boxplot(df.Rainfall)"
   ]
  },
  {
   "cell_type": "markdown",
   "id": "eebff5e9",
   "metadata": {},
   "source": [
    ">#### No outliers for rainfall based on IQR rule. The data looks to be skewed right so this makes sense."
   ]
  },
  {
   "cell_type": "code",
   "execution_count": 17,
   "id": "3d5e7531",
   "metadata": {},
   "outputs": [
    {
     "data": {
      "text/html": [
       "<div>\n",
       "<style scoped>\n",
       "    .dataframe tbody tr th:only-of-type {\n",
       "        vertical-align: middle;\n",
       "    }\n",
       "\n",
       "    .dataframe tbody tr th {\n",
       "        vertical-align: top;\n",
       "    }\n",
       "\n",
       "    .dataframe thead th {\n",
       "        text-align: right;\n",
       "    }\n",
       "</style>\n",
       "<table border=\"1\" class=\"dataframe\">\n",
       "  <thead>\n",
       "    <tr style=\"text-align: right;\">\n",
       "      <th></th>\n",
       "      <th>Date</th>\n",
       "      <th>Day</th>\n",
       "      <th>Temperature</th>\n",
       "      <th>Rainfall</th>\n",
       "      <th>Flyers</th>\n",
       "      <th>Price</th>\n",
       "      <th>Sales</th>\n",
       "    </tr>\n",
       "  </thead>\n",
       "  <tbody>\n",
       "    <tr>\n",
       "      <th>324</th>\n",
       "      <td>11/21/17</td>\n",
       "      <td>Tuesday</td>\n",
       "      <td>47.0</td>\n",
       "      <td>0.95</td>\n",
       "      <td>-38</td>\n",
       "      <td>0.5</td>\n",
       "      <td>20</td>\n",
       "    </tr>\n",
       "  </tbody>\n",
       "</table>\n",
       "</div>"
      ],
      "text/plain": [
       "         Date      Day  Temperature  Rainfall  Flyers  Price  Sales\n",
       "324  11/21/17  Tuesday         47.0      0.95     -38    0.5     20"
      ]
     },
     "execution_count": 17,
     "metadata": {},
     "output_type": "execute_result"
    }
   ],
   "source": [
    "# Flyers\n",
    "df[df.Flyers < inner_lower_fence_flyer]"
   ]
  },
  {
   "cell_type": "code",
   "execution_count": 35,
   "id": "1fa11e08",
   "metadata": {},
   "outputs": [
    {
     "name": "stderr",
     "output_type": "stream",
     "text": [
      "/usr/local/anaconda3/lib/python3.8/site-packages/seaborn/_decorators.py:36: FutureWarning: Pass the following variable as a keyword arg: x. From version 0.12, the only valid positional argument will be `data`, and passing other arguments without an explicit keyword will result in an error or misinterpretation.\n",
      "  warnings.warn(\n"
     ]
    },
    {
     "data": {
      "image/png": "[encoded data removed]",
      "text/plain": [
       "<Figure size 432x288 with 1 Axes>"
      ]
     },
     "metadata": {
      "needs_background": "light"
     },
     "output_type": "display_data"
    }
   ],
   "source": [
    "boxplot(df.Flyers)"
   ]
  },
  {
   "cell_type": "markdown",
   "id": "19307468",
   "metadata": {},
   "source": [
    ">#### I do not see how you could have a negative value for `Flyers` so this makse sense as an outlier."
   ]
  },
  {
   "cell_type": "code",
   "execution_count": 20,
   "id": "054e8e45",
   "metadata": {},
   "outputs": [
    {
     "data": {
      "text/html": [
       "<div>\n",
       "<style scoped>\n",
       "    .dataframe tbody tr th:only-of-type {\n",
       "        vertical-align: middle;\n",
       "    }\n",
       "\n",
       "    .dataframe tbody tr th {\n",
       "        vertical-align: top;\n",
       "    }\n",
       "\n",
       "    .dataframe thead th {\n",
       "        text-align: right;\n",
       "    }\n",
       "</style>\n",
       "<table border=\"1\" class=\"dataframe\">\n",
       "  <thead>\n",
       "    <tr style=\"text-align: right;\">\n",
       "      <th></th>\n",
       "      <th>Date</th>\n",
       "      <th>Day</th>\n",
       "      <th>Temperature</th>\n",
       "      <th>Rainfall</th>\n",
       "      <th>Flyers</th>\n",
       "      <th>Price</th>\n",
       "      <th>Sales</th>\n",
       "    </tr>\n",
       "  </thead>\n",
       "  <tbody>\n",
       "  </tbody>\n",
       "</table>\n",
       "</div>"
      ],
      "text/plain": [
       "Empty DataFrame\n",
       "Columns: [Date, Day, Temperature, Rainfall, Flyers, Price, Sales]\n",
       "Index: []"
      ]
     },
     "execution_count": 20,
     "metadata": {},
     "output_type": "execute_result"
    }
   ],
   "source": [
    "# Price\n",
    "df[df.Price < inner_lower_fence_price]"
   ]
  },
  {
   "cell_type": "code",
   "execution_count": 36,
   "id": "3f274ecd",
   "metadata": {},
   "outputs": [
    {
     "name": "stderr",
     "output_type": "stream",
     "text": [
      "/usr/local/anaconda3/lib/python3.8/site-packages/seaborn/_decorators.py:36: FutureWarning: Pass the following variable as a keyword arg: x. From version 0.12, the only valid positional argument will be `data`, and passing other arguments without an explicit keyword will result in an error or misinterpretation.\n",
      "  warnings.warn(\n"
     ]
    },
    {
     "data": {
      "image/png": "[encoded data removed]",
      "text/plain": [
       "<Figure size 432x288 with 1 Axes>"
      ]
     },
     "metadata": {
      "needs_background": "light"
     },
     "output_type": "display_data"
    }
   ],
   "source": [
    "boxplot(df.Price)"
   ]
  },
  {
   "cell_type": "code",
   "execution_count": 37,
   "id": "af24c094",
   "metadata": {},
   "outputs": [
    {
     "data": {
      "text/plain": [
       "0.5    365\n",
       "Name: Price, dtype: int64"
      ]
     },
     "execution_count": 37,
     "metadata": {},
     "output_type": "execute_result"
    }
   ],
   "source": [
    "# single value for Price, looking at the value counts\n",
    "df.Price.value_counts()"
   ]
  },
  {
   "cell_type": "markdown",
   "id": "195e8d11",
   "metadata": {},
   "source": [
    ">#### Each value in this column is the same so no outliers makes sense here."
   ]
  },
  {
   "cell_type": "code",
   "execution_count": 21,
   "id": "83805bc0",
   "metadata": {},
   "outputs": [
    {
     "data": {
      "text/html": [
       "<div>\n",
       "<style scoped>\n",
       "    .dataframe tbody tr th:only-of-type {\n",
       "        vertical-align: middle;\n",
       "    }\n",
       "\n",
       "    .dataframe tbody tr th {\n",
       "        vertical-align: top;\n",
       "    }\n",
       "\n",
       "    .dataframe thead th {\n",
       "        text-align: right;\n",
       "    }\n",
       "</style>\n",
       "<table border=\"1\" class=\"dataframe\">\n",
       "  <thead>\n",
       "    <tr style=\"text-align: right;\">\n",
       "      <th></th>\n",
       "      <th>Date</th>\n",
       "      <th>Day</th>\n",
       "      <th>Temperature</th>\n",
       "      <th>Rainfall</th>\n",
       "      <th>Flyers</th>\n",
       "      <th>Price</th>\n",
       "      <th>Sales</th>\n",
       "    </tr>\n",
       "  </thead>\n",
       "  <tbody>\n",
       "  </tbody>\n",
       "</table>\n",
       "</div>"
      ],
      "text/plain": [
       "Empty DataFrame\n",
       "Columns: [Date, Day, Temperature, Rainfall, Flyers, Price, Sales]\n",
       "Index: []"
      ]
     },
     "execution_count": 21,
     "metadata": {},
     "output_type": "execute_result"
    }
   ],
   "source": [
    "# Sales\n",
    "df [df.Sales < inner_lower_fence_sales]"
   ]
  },
  {
   "cell_type": "code",
   "execution_count": 38,
   "id": "7a4953e0",
   "metadata": {},
   "outputs": [
    {
     "name": "stderr",
     "output_type": "stream",
     "text": [
      "/usr/local/anaconda3/lib/python3.8/site-packages/seaborn/_decorators.py:36: FutureWarning: Pass the following variable as a keyword arg: x. From version 0.12, the only valid positional argument will be `data`, and passing other arguments without an explicit keyword will result in an error or misinterpretation.\n",
      "  warnings.warn(\n"
     ]
    },
    {
     "data": {
      "image/png": "[encoded data removed]",
      "text/plain": [
       "<Figure size 432x288 with 1 Axes>"
      ]
     },
     "metadata": {
      "needs_background": "light"
     },
     "output_type": "display_data"
    }
   ],
   "source": [
    "boxplot(df.Sales)"
   ]
  },
  {
   "cell_type": "markdown",
   "id": "eba72c51",
   "metadata": {},
   "source": [
    ">#### This column is heavily skewed right so it makes sense that there are now lower fence outliers here."
   ]
  },
  {
   "cell_type": "code",
   "execution_count": null,
   "id": "673bdbd2",
   "metadata": {},
   "outputs": [],
   "source": []
  },
  {
   "cell_type": "markdown",
   "id": "0916dd88",
   "metadata": {},
   "source": [
    "## 1b. Identify upper outliers\n",
    "Use the **IQR Range Rule** and the upper and upper bounds to identify the upper outliers of each column of lemonade.csv, using the multiplier of 1.5. \n",
    "- Do these upper outliers make sense? \n",
    "- Which outliers should be kept?"
   ]
  },
  {
   "cell_type": "code",
   "execution_count": 39,
   "id": "8e2b6520",
   "metadata": {},
   "outputs": [],
   "source": [
    "# calculating upper fence values\n",
    "inner_upper_fence_temp = q3_temp + (multiplier * iqr_temp)\n",
    "inner_upper_fence_rain = q3_rain + (multiplier * iqr_rain)\n",
    "inner_upper_fence_flyer = q3_flyer + (multiplier * iqr_flyer)\n",
    "inner_upper_fence_price = q3_price + (multiplier * iqr_price)\n",
    "inner_upper_fence_sales = q3_sales + (multiplier * iqr_sales)"
   ]
  },
  {
   "cell_type": "code",
   "execution_count": 41,
   "id": "00166307",
   "metadata": {},
   "outputs": [
    {
     "data": {
      "text/html": [
       "<div>\n",
       "<style scoped>\n",
       "    .dataframe tbody tr th:only-of-type {\n",
       "        vertical-align: middle;\n",
       "    }\n",
       "\n",
       "    .dataframe tbody tr th {\n",
       "        vertical-align: top;\n",
       "    }\n",
       "\n",
       "    .dataframe thead th {\n",
       "        text-align: right;\n",
       "    }\n",
       "</style>\n",
       "<table border=\"1\" class=\"dataframe\">\n",
       "  <thead>\n",
       "    <tr style=\"text-align: right;\">\n",
       "      <th></th>\n",
       "      <th>Date</th>\n",
       "      <th>Day</th>\n",
       "      <th>Temperature</th>\n",
       "      <th>Rainfall</th>\n",
       "      <th>Flyers</th>\n",
       "      <th>Price</th>\n",
       "      <th>Sales</th>\n",
       "    </tr>\n",
       "  </thead>\n",
       "  <tbody>\n",
       "    <tr>\n",
       "      <th>41</th>\n",
       "      <td>2/11/17</td>\n",
       "      <td>Saturday</td>\n",
       "      <td>212.0</td>\n",
       "      <td>0.91</td>\n",
       "      <td>35</td>\n",
       "      <td>0.5</td>\n",
       "      <td>21</td>\n",
       "    </tr>\n",
       "  </tbody>\n",
       "</table>\n",
       "</div>"
      ],
      "text/plain": [
       "       Date       Day  Temperature  Rainfall  Flyers  Price  Sales\n",
       "41  2/11/17  Saturday        212.0      0.91      35    0.5     21"
      ]
     },
     "execution_count": 41,
     "metadata": {},
     "output_type": "execute_result"
    }
   ],
   "source": [
    "# Temperature\n",
    "df[df.Temperature > inner_upper_fence_temp]"
   ]
  },
  {
   "cell_type": "code",
   "execution_count": 42,
   "id": "2e0d2c82",
   "metadata": {},
   "outputs": [
    {
     "name": "stderr",
     "output_type": "stream",
     "text": [
      "/usr/local/anaconda3/lib/python3.8/site-packages/seaborn/_decorators.py:36: FutureWarning: Pass the following variable as a keyword arg: x. From version 0.12, the only valid positional argument will be `data`, and passing other arguments without an explicit keyword will result in an error or misinterpretation.\n",
      "  warnings.warn(\n"
     ]
    },
    {
     "data": {
      "image/png": "[encoded data removed]",
      "text/plain": [
       "<Figure size 432x288 with 1 Axes>"
      ]
     },
     "metadata": {
      "needs_background": "light"
     },
     "output_type": "display_data"
    }
   ],
   "source": [
    "boxplot(df.Temperature)"
   ]
  },
  {
   "cell_type": "markdown",
   "id": "2d507b71",
   "metadata": {},
   "source": [
    ">#### I am not sure that a temperature of 212 is possible (...on Earth, anyway). I wonder if this is a typo? This definitely makes sense as an outlier."
   ]
  },
  {
   "cell_type": "code",
   "execution_count": 44,
   "id": "0ebad7ef",
   "metadata": {
    "scrolled": true
   },
   "outputs": [
    {
     "data": {
      "text/html": [
       "<div>\n",
       "<style scoped>\n",
       "    .dataframe tbody tr th:only-of-type {\n",
       "        vertical-align: middle;\n",
       "    }\n",
       "\n",
       "    .dataframe tbody tr th {\n",
       "        vertical-align: top;\n",
       "    }\n",
       "\n",
       "    .dataframe thead th {\n",
       "        text-align: right;\n",
       "    }\n",
       "</style>\n",
       "<table border=\"1\" class=\"dataframe\">\n",
       "  <thead>\n",
       "    <tr style=\"text-align: right;\">\n",
       "      <th></th>\n",
       "      <th>Date</th>\n",
       "      <th>Day</th>\n",
       "      <th>Temperature</th>\n",
       "      <th>Rainfall</th>\n",
       "      <th>Flyers</th>\n",
       "      <th>Price</th>\n",
       "      <th>Sales</th>\n",
       "    </tr>\n",
       "  </thead>\n",
       "  <tbody>\n",
       "    <tr>\n",
       "      <th>364</th>\n",
       "      <td>12/31/17</td>\n",
       "      <td>Sunday</td>\n",
       "      <td>15.1</td>\n",
       "      <td>2.50</td>\n",
       "      <td>9</td>\n",
       "      <td>0.5</td>\n",
       "      <td>7</td>\n",
       "    </tr>\n",
       "    <tr>\n",
       "      <th>0</th>\n",
       "      <td>1/1/17</td>\n",
       "      <td>Sunday</td>\n",
       "      <td>27.0</td>\n",
       "      <td>2.00</td>\n",
       "      <td>15</td>\n",
       "      <td>0.5</td>\n",
       "      <td>10</td>\n",
       "    </tr>\n",
       "    <tr>\n",
       "      <th>338</th>\n",
       "      <td>12/5/17</td>\n",
       "      <td>Tuesday</td>\n",
       "      <td>22.0</td>\n",
       "      <td>1.82</td>\n",
       "      <td>11</td>\n",
       "      <td>0.5</td>\n",
       "      <td>10</td>\n",
       "    </tr>\n",
       "    <tr>\n",
       "      <th>343</th>\n",
       "      <td>12/10/17</td>\n",
       "      <td>Sunday</td>\n",
       "      <td>31.3</td>\n",
       "      <td>1.82</td>\n",
       "      <td>15</td>\n",
       "      <td>0.5</td>\n",
       "      <td>11</td>\n",
       "    </tr>\n",
       "    <tr>\n",
       "      <th>15</th>\n",
       "      <td>1/16/17</td>\n",
       "      <td>Monday</td>\n",
       "      <td>30.6</td>\n",
       "      <td>1.67</td>\n",
       "      <td>24</td>\n",
       "      <td>0.5</td>\n",
       "      <td>12</td>\n",
       "    </tr>\n",
       "    <tr>\n",
       "      <th>23</th>\n",
       "      <td>1/24/17</td>\n",
       "      <td>Tuesday</td>\n",
       "      <td>28.6</td>\n",
       "      <td>1.54</td>\n",
       "      <td>20</td>\n",
       "      <td>0.5</td>\n",
       "      <td>12</td>\n",
       "    </tr>\n",
       "    <tr>\n",
       "      <th>355</th>\n",
       "      <td>12/22/17</td>\n",
       "      <td>Friday</td>\n",
       "      <td>30.9</td>\n",
       "      <td>1.54</td>\n",
       "      <td>17</td>\n",
       "      <td>0.5</td>\n",
       "      <td>13</td>\n",
       "    </tr>\n",
       "    <tr>\n",
       "      <th>347</th>\n",
       "      <td>12/14/17</td>\n",
       "      <td>Thursday</td>\n",
       "      <td>31.9</td>\n",
       "      <td>1.54</td>\n",
       "      <td>24</td>\n",
       "      <td>0.5</td>\n",
       "      <td>13</td>\n",
       "    </tr>\n",
       "    <tr>\n",
       "      <th>5</th>\n",
       "      <td>1/6/17</td>\n",
       "      <td>Friday</td>\n",
       "      <td>25.3</td>\n",
       "      <td>1.54</td>\n",
       "      <td>23</td>\n",
       "      <td>0.5</td>\n",
       "      <td>11</td>\n",
       "    </tr>\n",
       "    <tr>\n",
       "      <th>337</th>\n",
       "      <td>12/4/17</td>\n",
       "      <td>Monday</td>\n",
       "      <td>34.9</td>\n",
       "      <td>1.54</td>\n",
       "      <td>16</td>\n",
       "      <td>0.5</td>\n",
       "      <td>13</td>\n",
       "    </tr>\n",
       "    <tr>\n",
       "      <th>6</th>\n",
       "      <td>1/7/17</td>\n",
       "      <td>Saturday</td>\n",
       "      <td>32.9</td>\n",
       "      <td>1.54</td>\n",
       "      <td>19</td>\n",
       "      <td>0.5</td>\n",
       "      <td>13</td>\n",
       "    </tr>\n",
       "    <tr>\n",
       "      <th>10</th>\n",
       "      <td>1/11/17</td>\n",
       "      <td>Wednesday</td>\n",
       "      <td>32.6</td>\n",
       "      <td>1.54</td>\n",
       "      <td>23</td>\n",
       "      <td>0.5</td>\n",
       "      <td>12</td>\n",
       "    </tr>\n",
       "    <tr>\n",
       "      <th>19</th>\n",
       "      <td>1/20/17</td>\n",
       "      <td>Friday</td>\n",
       "      <td>31.6</td>\n",
       "      <td>1.43</td>\n",
       "      <td>20</td>\n",
       "      <td>0.5</td>\n",
       "      <td>12</td>\n",
       "    </tr>\n",
       "    <tr>\n",
       "      <th>16</th>\n",
       "      <td>1/17/17</td>\n",
       "      <td>Tuesday</td>\n",
       "      <td>32.2</td>\n",
       "      <td>1.43</td>\n",
       "      <td>26</td>\n",
       "      <td>0.5</td>\n",
       "      <td>14</td>\n",
       "    </tr>\n",
       "    <tr>\n",
       "      <th>363</th>\n",
       "      <td>12/30/17</td>\n",
       "      <td>Saturday</td>\n",
       "      <td>30.9</td>\n",
       "      <td>1.43</td>\n",
       "      <td>22</td>\n",
       "      <td>0.5</td>\n",
       "      <td>13</td>\n",
       "    </tr>\n",
       "    <tr>\n",
       "      <th>359</th>\n",
       "      <td>12/26/17</td>\n",
       "      <td>Tuesday</td>\n",
       "      <td>28.9</td>\n",
       "      <td>1.43</td>\n",
       "      <td>23</td>\n",
       "      <td>0.5</td>\n",
       "      <td>13</td>\n",
       "    </tr>\n",
       "    <tr>\n",
       "      <th>351</th>\n",
       "      <td>12/18/17</td>\n",
       "      <td>Monday</td>\n",
       "      <td>30.9</td>\n",
       "      <td>1.43</td>\n",
       "      <td>27</td>\n",
       "      <td>0.5</td>\n",
       "      <td>13</td>\n",
       "    </tr>\n",
       "    <tr>\n",
       "      <th>346</th>\n",
       "      <td>12/13/17</td>\n",
       "      <td>Wednesday</td>\n",
       "      <td>32.2</td>\n",
       "      <td>1.43</td>\n",
       "      <td>26</td>\n",
       "      <td>0.5</td>\n",
       "      <td>14</td>\n",
       "    </tr>\n",
       "    <tr>\n",
       "      <th>342</th>\n",
       "      <td>12/9/17</td>\n",
       "      <td>Saturday</td>\n",
       "      <td>31.2</td>\n",
       "      <td>1.43</td>\n",
       "      <td>19</td>\n",
       "      <td>0.5</td>\n",
       "      <td>14</td>\n",
       "    </tr>\n",
       "    <tr>\n",
       "      <th>345</th>\n",
       "      <td>12/12/17</td>\n",
       "      <td>Tuesday</td>\n",
       "      <td>33.5</td>\n",
       "      <td>1.33</td>\n",
       "      <td>22</td>\n",
       "      <td>0.5</td>\n",
       "      <td>15</td>\n",
       "    </tr>\n",
       "    <tr>\n",
       "      <th>11</th>\n",
       "      <td>1/12/17</td>\n",
       "      <td>Thursday</td>\n",
       "      <td>38.2</td>\n",
       "      <td>1.33</td>\n",
       "      <td>16</td>\n",
       "      <td>0.5</td>\n",
       "      <td>14</td>\n",
       "    </tr>\n",
       "    <tr>\n",
       "      <th>350</th>\n",
       "      <td>12/17/17</td>\n",
       "      <td>Sunday</td>\n",
       "      <td>32.2</td>\n",
       "      <td>1.33</td>\n",
       "      <td>16</td>\n",
       "      <td>0.5</td>\n",
       "      <td>14</td>\n",
       "    </tr>\n",
       "    <tr>\n",
       "      <th>12</th>\n",
       "      <td>1/13/17</td>\n",
       "      <td>Friday</td>\n",
       "      <td>37.5</td>\n",
       "      <td>1.33</td>\n",
       "      <td>19</td>\n",
       "      <td>0.5</td>\n",
       "      <td>15</td>\n",
       "    </tr>\n",
       "    <tr>\n",
       "      <th>354</th>\n",
       "      <td>12/21/17</td>\n",
       "      <td>Thursday</td>\n",
       "      <td>40.5</td>\n",
       "      <td>1.33</td>\n",
       "      <td>23</td>\n",
       "      <td>0.5</td>\n",
       "      <td>15</td>\n",
       "    </tr>\n",
       "    <tr>\n",
       "      <th>1</th>\n",
       "      <td>1/2/17</td>\n",
       "      <td>Monday</td>\n",
       "      <td>28.9</td>\n",
       "      <td>1.33</td>\n",
       "      <td>15</td>\n",
       "      <td>0.5</td>\n",
       "      <td>13</td>\n",
       "    </tr>\n",
       "    <tr>\n",
       "      <th>28</th>\n",
       "      <td>1/29/17</td>\n",
       "      <td>Sunday</td>\n",
       "      <td>35.2</td>\n",
       "      <td>1.33</td>\n",
       "      <td>27</td>\n",
       "      <td>0.5</td>\n",
       "      <td>14</td>\n",
       "    </tr>\n",
       "    <tr>\n",
       "      <th>27</th>\n",
       "      <td>1/28/17</td>\n",
       "      <td>Saturday</td>\n",
       "      <td>34.9</td>\n",
       "      <td>1.33</td>\n",
       "      <td>15</td>\n",
       "      <td>0.5</td>\n",
       "      <td>13</td>\n",
       "    </tr>\n",
       "    <tr>\n",
       "      <th>2</th>\n",
       "      <td>1/3/17</td>\n",
       "      <td>Tuesday</td>\n",
       "      <td>34.5</td>\n",
       "      <td>1.33</td>\n",
       "      <td>27</td>\n",
       "      <td>0.5</td>\n",
       "      <td>15</td>\n",
       "    </tr>\n",
       "  </tbody>\n",
       "</table>\n",
       "</div>"
      ],
      "text/plain": [
       "         Date        Day  Temperature  Rainfall  Flyers  Price  Sales\n",
       "364  12/31/17     Sunday         15.1      2.50       9    0.5      7\n",
       "0      1/1/17     Sunday         27.0      2.00      15    0.5     10\n",
       "338   12/5/17    Tuesday         22.0      1.82      11    0.5     10\n",
       "343  12/10/17     Sunday         31.3      1.82      15    0.5     11\n",
       "15    1/16/17     Monday         30.6      1.67      24    0.5     12\n",
       "23    1/24/17    Tuesday         28.6      1.54      20    0.5     12\n",
       "355  12/22/17     Friday         30.9      1.54      17    0.5     13\n",
       "347  12/14/17   Thursday         31.9      1.54      24    0.5     13\n",
       "5      1/6/17     Friday         25.3      1.54      23    0.5     11\n",
       "337   12/4/17     Monday         34.9      1.54      16    0.5     13\n",
       "6      1/7/17   Saturday         32.9      1.54      19    0.5     13\n",
       "10    1/11/17  Wednesday         32.6      1.54      23    0.5     12\n",
       "19    1/20/17     Friday         31.6      1.43      20    0.5     12\n",
       "16    1/17/17    Tuesday         32.2      1.43      26    0.5     14\n",
       "363  12/30/17   Saturday         30.9      1.43      22    0.5     13\n",
       "359  12/26/17    Tuesday         28.9      1.43      23    0.5     13\n",
       "351  12/18/17     Monday         30.9      1.43      27    0.5     13\n",
       "346  12/13/17  Wednesday         32.2      1.43      26    0.5     14\n",
       "342   12/9/17   Saturday         31.2      1.43      19    0.5     14\n",
       "345  12/12/17    Tuesday         33.5      1.33      22    0.5     15\n",
       "11    1/12/17   Thursday         38.2      1.33      16    0.5     14\n",
       "350  12/17/17     Sunday         32.2      1.33      16    0.5     14\n",
       "12    1/13/17     Friday         37.5      1.33      19    0.5     15\n",
       "354  12/21/17   Thursday         40.5      1.33      23    0.5     15\n",
       "1      1/2/17     Monday         28.9      1.33      15    0.5     13\n",
       "28    1/29/17     Sunday         35.2      1.33      27    0.5     14\n",
       "27    1/28/17   Saturday         34.9      1.33      15    0.5     13\n",
       "2      1/3/17    Tuesday         34.5      1.33      27    0.5     15"
      ]
     },
     "execution_count": 44,
     "metadata": {},
     "output_type": "execute_result"
    }
   ],
   "source": [
    "# Rainfall\n",
    "df[df.Rainfall > inner_upper_fence_rain].sort_values(by = 'Rainfall', ascending = False)"
   ]
  },
  {
   "cell_type": "code",
   "execution_count": 45,
   "id": "504d6f48",
   "metadata": {},
   "outputs": [
    {
     "name": "stderr",
     "output_type": "stream",
     "text": [
      "/usr/local/anaconda3/lib/python3.8/site-packages/seaborn/_decorators.py:36: FutureWarning: Pass the following variable as a keyword arg: x. From version 0.12, the only valid positional argument will be `data`, and passing other arguments without an explicit keyword will result in an error or misinterpretation.\n",
      "  warnings.warn(\n"
     ]
    },
    {
     "data": {
      "image/png": "[encoded data removed]",
      "text/plain": [
       "<Figure size 432x288 with 1 Axes>"
      ]
     },
     "metadata": {
      "needs_background": "light"
     },
     "output_type": "display_data"
    }
   ],
   "source": [
    "boxplot(df.Rainfall)"
   ]
  },
  {
   "cell_type": "markdown",
   "id": "93cda781",
   "metadata": {},
   "source": [
    ">#### I guess this makes sense based on the `IQR`. I guess more than an inch/inch and a half of `Rainfall` is not likely based on the range of this data."
   ]
  },
  {
   "cell_type": "code",
   "execution_count": 46,
   "id": "7becf6f4",
   "metadata": {},
   "outputs": [
    {
     "data": {
      "text/html": [
       "<div>\n",
       "<style scoped>\n",
       "    .dataframe tbody tr th:only-of-type {\n",
       "        vertical-align: middle;\n",
       "    }\n",
       "\n",
       "    .dataframe tbody tr th {\n",
       "        vertical-align: top;\n",
       "    }\n",
       "\n",
       "    .dataframe thead th {\n",
       "        text-align: right;\n",
       "    }\n",
       "</style>\n",
       "<table border=\"1\" class=\"dataframe\">\n",
       "  <thead>\n",
       "    <tr style=\"text-align: right;\">\n",
       "      <th></th>\n",
       "      <th>Date</th>\n",
       "      <th>Day</th>\n",
       "      <th>Temperature</th>\n",
       "      <th>Rainfall</th>\n",
       "      <th>Flyers</th>\n",
       "      <th>Price</th>\n",
       "      <th>Sales</th>\n",
       "    </tr>\n",
       "  </thead>\n",
       "  <tbody>\n",
       "    <tr>\n",
       "      <th>166</th>\n",
       "      <td>6/16/17</td>\n",
       "      <td>Friday</td>\n",
       "      <td>99.3</td>\n",
       "      <td>0.47</td>\n",
       "      <td>77</td>\n",
       "      <td>0.5</td>\n",
       "      <td>41</td>\n",
       "    </tr>\n",
       "    <tr>\n",
       "      <th>194</th>\n",
       "      <td>7/14/17</td>\n",
       "      <td>Friday</td>\n",
       "      <td>92.0</td>\n",
       "      <td>0.50</td>\n",
       "      <td>80</td>\n",
       "      <td>0.5</td>\n",
       "      <td>40</td>\n",
       "    </tr>\n",
       "  </tbody>\n",
       "</table>\n",
       "</div>"
      ],
      "text/plain": [
       "        Date     Day  Temperature  Rainfall  Flyers  Price  Sales\n",
       "166  6/16/17  Friday         99.3      0.47      77    0.5     41\n",
       "194  7/14/17  Friday         92.0      0.50      80    0.5     40"
      ]
     },
     "execution_count": 46,
     "metadata": {},
     "output_type": "execute_result"
    }
   ],
   "source": [
    "# Flyers\n",
    "df[df.Flyers > inner_upper_fence_flyer]"
   ]
  },
  {
   "cell_type": "code",
   "execution_count": 47,
   "id": "8b6fc8b4",
   "metadata": {},
   "outputs": [
    {
     "name": "stderr",
     "output_type": "stream",
     "text": [
      "/usr/local/anaconda3/lib/python3.8/site-packages/seaborn/_decorators.py:36: FutureWarning: Pass the following variable as a keyword arg: x. From version 0.12, the only valid positional argument will be `data`, and passing other arguments without an explicit keyword will result in an error or misinterpretation.\n",
      "  warnings.warn(\n"
     ]
    },
    {
     "data": {
      "image/png": "[encoded data removed]",
      "text/plain": [
       "<Figure size 432x288 with 1 Axes>"
      ]
     },
     "metadata": {
      "needs_background": "light"
     },
     "output_type": "display_data"
    }
   ],
   "source": [
    "boxplot(df.Flyers)"
   ]
  },
  {
   "cell_type": "markdown",
   "id": "d8882ea9",
   "metadata": {},
   "source": [
    ">#### This makes sense based on the visualization. I do not have anough context about the data to determine whether these amounts are logical."
   ]
  },
  {
   "cell_type": "code",
   "execution_count": 48,
   "id": "a7803046",
   "metadata": {},
   "outputs": [
    {
     "data": {
      "text/html": [
       "<div>\n",
       "<style scoped>\n",
       "    .dataframe tbody tr th:only-of-type {\n",
       "        vertical-align: middle;\n",
       "    }\n",
       "\n",
       "    .dataframe tbody tr th {\n",
       "        vertical-align: top;\n",
       "    }\n",
       "\n",
       "    .dataframe thead th {\n",
       "        text-align: right;\n",
       "    }\n",
       "</style>\n",
       "<table border=\"1\" class=\"dataframe\">\n",
       "  <thead>\n",
       "    <tr style=\"text-align: right;\">\n",
       "      <th></th>\n",
       "      <th>Date</th>\n",
       "      <th>Day</th>\n",
       "      <th>Temperature</th>\n",
       "      <th>Rainfall</th>\n",
       "      <th>Flyers</th>\n",
       "      <th>Price</th>\n",
       "      <th>Sales</th>\n",
       "    </tr>\n",
       "  </thead>\n",
       "  <tbody>\n",
       "  </tbody>\n",
       "</table>\n",
       "</div>"
      ],
      "text/plain": [
       "Empty DataFrame\n",
       "Columns: [Date, Day, Temperature, Rainfall, Flyers, Price, Sales]\n",
       "Index: []"
      ]
     },
     "execution_count": 48,
     "metadata": {},
     "output_type": "execute_result"
    }
   ],
   "source": [
    "# Price\n",
    "df[df.Price > inner_upper_fence_price]"
   ]
  },
  {
   "cell_type": "code",
   "execution_count": 49,
   "id": "ee3025ec",
   "metadata": {},
   "outputs": [
    {
     "name": "stderr",
     "output_type": "stream",
     "text": [
      "/usr/local/anaconda3/lib/python3.8/site-packages/seaborn/_decorators.py:36: FutureWarning: Pass the following variable as a keyword arg: x. From version 0.12, the only valid positional argument will be `data`, and passing other arguments without an explicit keyword will result in an error or misinterpretation.\n",
      "  warnings.warn(\n"
     ]
    },
    {
     "data": {
      "image/png": "[encoded data removed]",
      "text/plain": [
       "<Figure size 432x288 with 1 Axes>"
      ]
     },
     "metadata": {
      "needs_background": "light"
     },
     "output_type": "display_data"
    }
   ],
   "source": [
    "boxplot(df.Price)"
   ]
  },
  {
   "cell_type": "markdown",
   "id": "bc60affd",
   "metadata": {},
   "source": [
    ">#### There is only x1 unique value for `Price` so it makes sense there are no upper bound outliers."
   ]
  },
  {
   "cell_type": "code",
   "execution_count": 50,
   "id": "423d338e",
   "metadata": {},
   "outputs": [
    {
     "data": {
      "text/html": [
       "<div>\n",
       "<style scoped>\n",
       "    .dataframe tbody tr th:only-of-type {\n",
       "        vertical-align: middle;\n",
       "    }\n",
       "\n",
       "    .dataframe tbody tr th {\n",
       "        vertical-align: top;\n",
       "    }\n",
       "\n",
       "    .dataframe thead th {\n",
       "        text-align: right;\n",
       "    }\n",
       "</style>\n",
       "<table border=\"1\" class=\"dataframe\">\n",
       "  <thead>\n",
       "    <tr style=\"text-align: right;\">\n",
       "      <th></th>\n",
       "      <th>Date</th>\n",
       "      <th>Day</th>\n",
       "      <th>Temperature</th>\n",
       "      <th>Rainfall</th>\n",
       "      <th>Flyers</th>\n",
       "      <th>Price</th>\n",
       "      <th>Sales</th>\n",
       "    </tr>\n",
       "  </thead>\n",
       "  <tbody>\n",
       "    <tr>\n",
       "      <th>181</th>\n",
       "      <td>7/1/17</td>\n",
       "      <td>Saturday</td>\n",
       "      <td>102.9</td>\n",
       "      <td>0.47</td>\n",
       "      <td>59</td>\n",
       "      <td>0.5</td>\n",
       "      <td>143</td>\n",
       "    </tr>\n",
       "    <tr>\n",
       "      <th>182</th>\n",
       "      <td>7/2/17</td>\n",
       "      <td>Sunday</td>\n",
       "      <td>93.4</td>\n",
       "      <td>0.51</td>\n",
       "      <td>68</td>\n",
       "      <td>0.5</td>\n",
       "      <td>158</td>\n",
       "    </tr>\n",
       "    <tr>\n",
       "      <th>183</th>\n",
       "      <td>7/3/17</td>\n",
       "      <td>Monday</td>\n",
       "      <td>81.5</td>\n",
       "      <td>0.54</td>\n",
       "      <td>68</td>\n",
       "      <td>0.5</td>\n",
       "      <td>235</td>\n",
       "    </tr>\n",
       "    <tr>\n",
       "      <th>184</th>\n",
       "      <td>7/4/17</td>\n",
       "      <td>Tuesday</td>\n",
       "      <td>84.2</td>\n",
       "      <td>0.59</td>\n",
       "      <td>49</td>\n",
       "      <td>0.5</td>\n",
       "      <td>534</td>\n",
       "    </tr>\n",
       "  </tbody>\n",
       "</table>\n",
       "</div>"
      ],
      "text/plain": [
       "       Date       Day  Temperature  Rainfall  Flyers  Price  Sales\n",
       "181  7/1/17  Saturday        102.9      0.47      59    0.5    143\n",
       "182  7/2/17    Sunday         93.4      0.51      68    0.5    158\n",
       "183  7/3/17    Monday         81.5      0.54      68    0.5    235\n",
       "184  7/4/17   Tuesday         84.2      0.59      49    0.5    534"
      ]
     },
     "execution_count": 50,
     "metadata": {},
     "output_type": "execute_result"
    }
   ],
   "source": [
    "# Sales\n",
    "df[df.Sales > inner_upper_fence_sales]"
   ]
  },
  {
   "cell_type": "code",
   "execution_count": 51,
   "id": "9b3f6f2d",
   "metadata": {},
   "outputs": [
    {
     "name": "stderr",
     "output_type": "stream",
     "text": [
      "/usr/local/anaconda3/lib/python3.8/site-packages/seaborn/_decorators.py:36: FutureWarning: Pass the following variable as a keyword arg: x. From version 0.12, the only valid positional argument will be `data`, and passing other arguments without an explicit keyword will result in an error or misinterpretation.\n",
      "  warnings.warn(\n"
     ]
    },
    {
     "data": {
      "image/png": "[encoded data removed]",
      "text/plain": [
       "<Figure size 432x288 with 1 Axes>"
      ]
     },
     "metadata": {
      "needs_background": "light"
     },
     "output_type": "display_data"
    }
   ],
   "source": [
    "boxplot(df.Sales)"
   ]
  },
  {
   "cell_type": "markdown",
   "id": "758dce91",
   "metadata": {},
   "source": [
    "### There was a lot of redundancy in working 1a and 1b. \n",
    "Looking ahead at the next parts, I think it would be helpful to have a function to compute these values for different:\n",
    "- `df`\n",
    "- `Series`\n",
    "- `multiplier` values\n",
    "- `upperbound` and `lowerbound` values"
   ]
  },
  {
   "cell_type": "code",
   "execution_count": 69,
   "id": "a0e0af3d",
   "metadata": {},
   "outputs": [],
   "source": [
    "def find_outliers(df, Series, multiplier):\n",
    "    '''\n",
    "THIS FUNCTION CALCULATES THE UPPER AND LOWER BOUNDS OF A DF SERIES, PLOTS A BOXPLOT OF\n",
    "THE SERIES VALUES, AND RETURNS TWO DFs OF THE UPPER AND LOWER VALUES FOR THAT SERIES. \n",
    "\n",
    "ARGS:\n",
    "    - df: the full df\n",
    "    - Series: df series; Syntax >> df.Series\n",
    "    - mulitplier: (numeric value) for iqr multiplier, used to calculate upper and lower bounds\n",
    "\n",
    "RETURNS:\n",
    "    - lower_outliers: (df) filtered to show rows below lower_bound for series\n",
    "    - upper_outliers: (df) filtered to show rows above upper_bound for series\n",
    "    '''\n",
    "\n",
    "    # calculating q1 and q3 and using them to calculate iqr\n",
    "    q1 = Series.quantile(.25)\n",
    "    q3 = Series.quantile(.75)\n",
    "    print(f'Q1: {q1}\\nQ3: {q3}')\n",
    "\n",
    "    iqr = q3 - q1\n",
    "    print(f'IQR: {iqr}')\n",
    "    print()\n",
    "\n",
    "    # calculating upper and lower bounds\n",
    "    lower_bound = q1 - (multiplier * iqr)\n",
    "    upper_bound = q3 + (multiplier * iqr)\n",
    "    print(f'Upper Bound: {upper_bound}\\nLower Bound: {lower_bound}')\n",
    "    print()\n",
    "\n",
    "    # using upper and lower bounds to find outliers\n",
    "    lower_outliers = df[Series < lower_bound]\n",
    "    upper_outliers = df[Series > upper_bound]\n",
    "    \n",
    "    boxplot(Series)\n",
    "    plt.show();\n",
    "\n",
    "    return lower_outliers, upper_outliers\n",
    "    "
   ]
  },
  {
   "cell_type": "code",
   "execution_count": 70,
   "id": "edba8737",
   "metadata": {},
   "outputs": [
    {
     "name": "stdout",
     "output_type": "stream",
     "text": [
      "Q1: 20.0\n",
      "Q3: 30.0\n",
      "IQR: 10.0\n",
      "\n",
      "Upper Bound: 45.0\n",
      "Lower Bound: 5.0\n",
      "\n"
     ]
    },
    {
     "name": "stderr",
     "output_type": "stream",
     "text": [
      "/usr/local/anaconda3/lib/python3.8/site-packages/seaborn/_decorators.py:36: FutureWarning: Pass the following variable as a keyword arg: x. From version 0.12, the only valid positional argument will be `data`, and passing other arguments without an explicit keyword will result in an error or misinterpretation.\n",
      "  warnings.warn(\n"
     ]
    },
    {
     "data": {
      "image/png": "[encoded data removed]",
      "text/plain": [
       "<Figure size 432x288 with 1 Axes>"
      ]
     },
     "metadata": {
      "needs_background": "light"
     },
     "output_type": "display_data"
    }
   ],
   "source": [
    "lower_outlier, upper_outliers = find_outliers(df, df.Sales, 1.5)"
   ]
  },
  {
   "cell_type": "code",
   "execution_count": null,
   "id": "ea3699fc",
   "metadata": {},
   "outputs": [],
   "source": []
  },
  {
   "cell_type": "markdown",
   "id": "d0e0913d",
   "metadata": {},
   "source": [
    "## 1c. Lower bound outliers\n",
    "Using the **multiplier of 3, IQR Range Rule**, and **the lower bounds**, identify the outliers below the lower bound in each colum of `lemonade.csv`. \n",
    "- Do these lower outliers make sense? \n",
    "- Which outliers should be kept?\n",
    "\n",
    ">Temperature<br>\n",
    "Rainfall<br>\n",
    "Flyers<br>\n",
    "Price<br>\n",
    "Sales<br>"
   ]
  },
  {
   "cell_type": "code",
   "execution_count": 71,
   "id": "3837c7e0",
   "metadata": {},
   "outputs": [
    {
     "name": "stdout",
     "output_type": "stream",
     "text": [
      "Q1: 49.7\n",
      "Q3: 71.7\n",
      "IQR: 22.0\n",
      "\n",
      "Upper Bound: 137.7\n",
      "Lower Bound: -16.299999999999997\n",
      "\n"
     ]
    },
    {
     "name": "stderr",
     "output_type": "stream",
     "text": [
      "/usr/local/anaconda3/lib/python3.8/site-packages/seaborn/_decorators.py:36: FutureWarning: Pass the following variable as a keyword arg: x. From version 0.12, the only valid positional argument will be `data`, and passing other arguments without an explicit keyword will result in an error or misinterpretation.\n",
      "  warnings.warn(\n"
     ]
    },
    {
     "data": {
      "image/png": "[encoded data removed]",
      "text/plain": [
       "<Figure size 432x288 with 1 Axes>"
      ]
     },
     "metadata": {
      "needs_background": "light"
     },
     "output_type": "display_data"
    }
   ],
   "source": [
    "# Temperature\n",
    "\n",
    "# calling find_outliers function to get Q1, Q3, and lower and upper outliers\n",
    "lower_outliers_temp, upper_outliers_temp = find_outliers(df, df.Temperature, 3)"
   ]
  },
  {
   "cell_type": "code",
   "execution_count": 72,
   "id": "9d399a3b",
   "metadata": {},
   "outputs": [
    {
     "data": {
      "text/html": [
       "<div>\n",
       "<style scoped>\n",
       "    .dataframe tbody tr th:only-of-type {\n",
       "        vertical-align: middle;\n",
       "    }\n",
       "\n",
       "    .dataframe tbody tr th {\n",
       "        vertical-align: top;\n",
       "    }\n",
       "\n",
       "    .dataframe thead th {\n",
       "        text-align: right;\n",
       "    }\n",
       "</style>\n",
       "<table border=\"1\" class=\"dataframe\">\n",
       "  <thead>\n",
       "    <tr style=\"text-align: right;\">\n",
       "      <th></th>\n",
       "      <th>Date</th>\n",
       "      <th>Day</th>\n",
       "      <th>Temperature</th>\n",
       "      <th>Rainfall</th>\n",
       "      <th>Flyers</th>\n",
       "      <th>Price</th>\n",
       "      <th>Sales</th>\n",
       "    </tr>\n",
       "  </thead>\n",
       "  <tbody>\n",
       "  </tbody>\n",
       "</table>\n",
       "</div>"
      ],
      "text/plain": [
       "Empty DataFrame\n",
       "Columns: [Date, Day, Temperature, Rainfall, Flyers, Price, Sales]\n",
       "Index: []"
      ]
     },
     "execution_count": 72,
     "metadata": {},
     "output_type": "execute_result"
    }
   ],
   "source": [
    "lower_outliers_temp"
   ]
  },
  {
   "cell_type": "markdown",
   "id": "e1348ec9",
   "metadata": {},
   "source": [
    ">#### The lower bound is negative 16 which is very low so it makes sense that there are no outliers below that lower bound."
   ]
  },
  {
   "cell_type": "code",
   "execution_count": 74,
   "id": "85040d47",
   "metadata": {},
   "outputs": [
    {
     "name": "stdout",
     "output_type": "stream",
     "text": [
      "Q1: 0.65\n",
      "Q3: 0.91\n",
      "IQR: 0.26\n",
      "\n",
      "Upper Bound: 1.69\n",
      "Lower Bound: -0.13\n",
      "\n"
     ]
    },
    {
     "name": "stderr",
     "output_type": "stream",
     "text": [
      "/usr/local/anaconda3/lib/python3.8/site-packages/seaborn/_decorators.py:36: FutureWarning: Pass the following variable as a keyword arg: x. From version 0.12, the only valid positional argument will be `data`, and passing other arguments without an explicit keyword will result in an error or misinterpretation.\n",
      "  warnings.warn(\n"
     ]
    },
    {
     "data": {
      "image/png": "[encoded data removed]",
      "text/plain": [
       "<Figure size 432x288 with 1 Axes>"
      ]
     },
     "metadata": {
      "needs_background": "light"
     },
     "output_type": "display_data"
    }
   ],
   "source": [
    "# Rainfall\n",
    "\n",
    "# calling the find_outliers function\n",
    "lower_outliers_Rain, upper_outliers_Rain = find_outliers(df, df.Rainfall, 3)"
   ]
  },
  {
   "cell_type": "code",
   "execution_count": 75,
   "id": "5a802f35",
   "metadata": {},
   "outputs": [
    {
     "data": {
      "text/html": [
       "<div>\n",
       "<style scoped>\n",
       "    .dataframe tbody tr th:only-of-type {\n",
       "        vertical-align: middle;\n",
       "    }\n",
       "\n",
       "    .dataframe tbody tr th {\n",
       "        vertical-align: top;\n",
       "    }\n",
       "\n",
       "    .dataframe thead th {\n",
       "        text-align: right;\n",
       "    }\n",
       "</style>\n",
       "<table border=\"1\" class=\"dataframe\">\n",
       "  <thead>\n",
       "    <tr style=\"text-align: right;\">\n",
       "      <th></th>\n",
       "      <th>Date</th>\n",
       "      <th>Day</th>\n",
       "      <th>Temperature</th>\n",
       "      <th>Rainfall</th>\n",
       "      <th>Flyers</th>\n",
       "      <th>Price</th>\n",
       "      <th>Sales</th>\n",
       "    </tr>\n",
       "  </thead>\n",
       "  <tbody>\n",
       "  </tbody>\n",
       "</table>\n",
       "</div>"
      ],
      "text/plain": [
       "Empty DataFrame\n",
       "Columns: [Date, Day, Temperature, Rainfall, Flyers, Price, Sales]\n",
       "Index: []"
      ]
     },
     "execution_count": 75,
     "metadata": {},
     "output_type": "execute_result"
    }
   ],
   "source": [
    "lower_outliers_Rain"
   ]
  },
  {
   "cell_type": "markdown",
   "id": "45551343",
   "metadata": {},
   "source": [
    ">#### It makes sense that there would be no negative values for rainfall"
   ]
  },
  {
   "cell_type": "code",
   "execution_count": 76,
   "id": "e9015804",
   "metadata": {},
   "outputs": [
    {
     "name": "stdout",
     "output_type": "stream",
     "text": [
      "Q1: 31.0\n",
      "Q3: 49.0\n",
      "IQR: 18.0\n",
      "\n",
      "Upper Bound: 103.0\n",
      "Lower Bound: -23.0\n",
      "\n"
     ]
    },
    {
     "name": "stderr",
     "output_type": "stream",
     "text": [
      "/usr/local/anaconda3/lib/python3.8/site-packages/seaborn/_decorators.py:36: FutureWarning: Pass the following variable as a keyword arg: x. From version 0.12, the only valid positional argument will be `data`, and passing other arguments without an explicit keyword will result in an error or misinterpretation.\n",
      "  warnings.warn(\n"
     ]
    },
    {
     "data": {
      "image/png": "[encoded data removed]",
      "text/plain": [
       "<Figure size 432x288 with 1 Axes>"
      ]
     },
     "metadata": {
      "needs_background": "light"
     },
     "output_type": "display_data"
    }
   ],
   "source": [
    "# Flyers\n",
    "\n",
    "# calling the find_outliers function\n",
    "lower_outliers_flyers, upper_outliers_flyers = find_outliers(df, df.Flyers, 3)"
   ]
  },
  {
   "cell_type": "code",
   "execution_count": 77,
   "id": "596e2ff1",
   "metadata": {},
   "outputs": [
    {
     "data": {
      "text/html": [
       "<div>\n",
       "<style scoped>\n",
       "    .dataframe tbody tr th:only-of-type {\n",
       "        vertical-align: middle;\n",
       "    }\n",
       "\n",
       "    .dataframe tbody tr th {\n",
       "        vertical-align: top;\n",
       "    }\n",
       "\n",
       "    .dataframe thead th {\n",
       "        text-align: right;\n",
       "    }\n",
       "</style>\n",
       "<table border=\"1\" class=\"dataframe\">\n",
       "  <thead>\n",
       "    <tr style=\"text-align: right;\">\n",
       "      <th></th>\n",
       "      <th>Date</th>\n",
       "      <th>Day</th>\n",
       "      <th>Temperature</th>\n",
       "      <th>Rainfall</th>\n",
       "      <th>Flyers</th>\n",
       "      <th>Price</th>\n",
       "      <th>Sales</th>\n",
       "    </tr>\n",
       "  </thead>\n",
       "  <tbody>\n",
       "    <tr>\n",
       "      <th>324</th>\n",
       "      <td>11/21/17</td>\n",
       "      <td>Tuesday</td>\n",
       "      <td>47.0</td>\n",
       "      <td>0.95</td>\n",
       "      <td>-38</td>\n",
       "      <td>0.5</td>\n",
       "      <td>20</td>\n",
       "    </tr>\n",
       "  </tbody>\n",
       "</table>\n",
       "</div>"
      ],
      "text/plain": [
       "         Date      Day  Temperature  Rainfall  Flyers  Price  Sales\n",
       "324  11/21/17  Tuesday         47.0      0.95     -38    0.5     20"
      ]
     },
     "execution_count": 77,
     "metadata": {},
     "output_type": "execute_result"
    }
   ],
   "source": [
    "lower_outliers_flyers"
   ]
  },
  {
   "cell_type": "markdown",
   "id": "1ea8388c",
   "metadata": {},
   "source": [
    ">#### I don't think it would make sense to have a negative value for `Flyers`. This value can likely be dropped."
   ]
  },
  {
   "cell_type": "code",
   "execution_count": 78,
   "id": "52d5af6b",
   "metadata": {},
   "outputs": [
    {
     "name": "stdout",
     "output_type": "stream",
     "text": [
      "Q1: 0.5\n",
      "Q3: 0.5\n",
      "IQR: 0.0\n",
      "\n",
      "Upper Bound: 0.5\n",
      "Lower Bound: 0.5\n",
      "\n"
     ]
    },
    {
     "name": "stderr",
     "output_type": "stream",
     "text": [
      "/usr/local/anaconda3/lib/python3.8/site-packages/seaborn/_decorators.py:36: FutureWarning: Pass the following variable as a keyword arg: x. From version 0.12, the only valid positional argument will be `data`, and passing other arguments without an explicit keyword will result in an error or misinterpretation.\n",
      "  warnings.warn(\n"
     ]
    },
    {
     "data": {
      "image/png": "[encoded data removed]",
      "text/plain": [
       "<Figure size 432x288 with 1 Axes>"
      ]
     },
     "metadata": {
      "needs_background": "light"
     },
     "output_type": "display_data"
    }
   ],
   "source": [
    "# Price\n",
    "\n",
    "# calling find_outliers function\n",
    "lower_outliers_price, upper_outliers_price = find_outliers(df, df.Price, 3)"
   ]
  },
  {
   "cell_type": "code",
   "execution_count": 79,
   "id": "8b02808a",
   "metadata": {},
   "outputs": [
    {
     "data": {
      "text/html": [
       "<div>\n",
       "<style scoped>\n",
       "    .dataframe tbody tr th:only-of-type {\n",
       "        vertical-align: middle;\n",
       "    }\n",
       "\n",
       "    .dataframe tbody tr th {\n",
       "        vertical-align: top;\n",
       "    }\n",
       "\n",
       "    .dataframe thead th {\n",
       "        text-align: right;\n",
       "    }\n",
       "</style>\n",
       "<table border=\"1\" class=\"dataframe\">\n",
       "  <thead>\n",
       "    <tr style=\"text-align: right;\">\n",
       "      <th></th>\n",
       "      <th>Date</th>\n",
       "      <th>Day</th>\n",
       "      <th>Temperature</th>\n",
       "      <th>Rainfall</th>\n",
       "      <th>Flyers</th>\n",
       "      <th>Price</th>\n",
       "      <th>Sales</th>\n",
       "    </tr>\n",
       "  </thead>\n",
       "  <tbody>\n",
       "  </tbody>\n",
       "</table>\n",
       "</div>"
      ],
      "text/plain": [
       "Empty DataFrame\n",
       "Columns: [Date, Day, Temperature, Rainfall, Flyers, Price, Sales]\n",
       "Index: []"
      ]
     },
     "execution_count": 79,
     "metadata": {},
     "output_type": "execute_result"
    }
   ],
   "source": [
    "lower_outliers_price"
   ]
  },
  {
   "cell_type": "markdown",
   "id": "c492d509",
   "metadata": {},
   "source": [
    ">#### There is only one unique value for `Price` so it makes sense there are no outliers."
   ]
  },
  {
   "cell_type": "code",
   "execution_count": 80,
   "id": "0b23f7f0",
   "metadata": {},
   "outputs": [
    {
     "name": "stdout",
     "output_type": "stream",
     "text": [
      "Q1: 20.0\n",
      "Q3: 30.0\n",
      "IQR: 10.0\n",
      "\n",
      "Upper Bound: 60.0\n",
      "Lower Bound: -10.0\n",
      "\n"
     ]
    },
    {
     "name": "stderr",
     "output_type": "stream",
     "text": [
      "/usr/local/anaconda3/lib/python3.8/site-packages/seaborn/_decorators.py:36: FutureWarning: Pass the following variable as a keyword arg: x. From version 0.12, the only valid positional argument will be `data`, and passing other arguments without an explicit keyword will result in an error or misinterpretation.\n",
      "  warnings.warn(\n"
     ]
    },
    {
     "data": {
      "image/png": "[encoded data removed]",
      "text/plain": [
       "<Figure size 432x288 with 1 Axes>"
      ]
     },
     "metadata": {
      "needs_background": "light"
     },
     "output_type": "display_data"
    }
   ],
   "source": [
    "# Sales\n",
    "\n",
    "# calling find_outliers function\n",
    "lower_outliers_sales, upper_outliers_sales = find_outliers(df, df.Sales, 3)"
   ]
  },
  {
   "cell_type": "code",
   "execution_count": 81,
   "id": "c0dbf73f",
   "metadata": {},
   "outputs": [
    {
     "data": {
      "text/html": [
       "<div>\n",
       "<style scoped>\n",
       "    .dataframe tbody tr th:only-of-type {\n",
       "        vertical-align: middle;\n",
       "    }\n",
       "\n",
       "    .dataframe tbody tr th {\n",
       "        vertical-align: top;\n",
       "    }\n",
       "\n",
       "    .dataframe thead th {\n",
       "        text-align: right;\n",
       "    }\n",
       "</style>\n",
       "<table border=\"1\" class=\"dataframe\">\n",
       "  <thead>\n",
       "    <tr style=\"text-align: right;\">\n",
       "      <th></th>\n",
       "      <th>Date</th>\n",
       "      <th>Day</th>\n",
       "      <th>Temperature</th>\n",
       "      <th>Rainfall</th>\n",
       "      <th>Flyers</th>\n",
       "      <th>Price</th>\n",
       "      <th>Sales</th>\n",
       "    </tr>\n",
       "  </thead>\n",
       "  <tbody>\n",
       "  </tbody>\n",
       "</table>\n",
       "</div>"
      ],
      "text/plain": [
       "Empty DataFrame\n",
       "Columns: [Date, Day, Temperature, Rainfall, Flyers, Price, Sales]\n",
       "Index: []"
      ]
     },
     "execution_count": 81,
     "metadata": {},
     "output_type": "execute_result"
    }
   ],
   "source": [
    "lower_outliers_sales"
   ]
  },
  {
   "cell_type": "markdown",
   "id": "b61fb2e1",
   "metadata": {},
   "source": [
    ">#### The lower bound is negative, lower than the lowest logical value of 0. It makes sense that there are no values below the lower bound."
   ]
  },
  {
   "cell_type": "markdown",
   "id": "35340787",
   "metadata": {},
   "source": [
    "## 1d. Upper bound outliers\n",
    "Using the **multiplier of 3, IQR Range Rule**, and **the upper bounds**, identify the outliers above the upper_bound in each colum of `lemonade.csv`. \n",
    "- Do these upper outliers make sense? \n",
    "- Which outliers should be kept?"
   ]
  },
  {
   "cell_type": "code",
   "execution_count": 82,
   "id": "93db5e28",
   "metadata": {},
   "outputs": [
    {
     "data": {
      "text/html": [
       "<div>\n",
       "<style scoped>\n",
       "    .dataframe tbody tr th:only-of-type {\n",
       "        vertical-align: middle;\n",
       "    }\n",
       "\n",
       "    .dataframe tbody tr th {\n",
       "        vertical-align: top;\n",
       "    }\n",
       "\n",
       "    .dataframe thead th {\n",
       "        text-align: right;\n",
       "    }\n",
       "</style>\n",
       "<table border=\"1\" class=\"dataframe\">\n",
       "  <thead>\n",
       "    <tr style=\"text-align: right;\">\n",
       "      <th></th>\n",
       "      <th>Date</th>\n",
       "      <th>Day</th>\n",
       "      <th>Temperature</th>\n",
       "      <th>Rainfall</th>\n",
       "      <th>Flyers</th>\n",
       "      <th>Price</th>\n",
       "      <th>Sales</th>\n",
       "    </tr>\n",
       "  </thead>\n",
       "  <tbody>\n",
       "    <tr>\n",
       "      <th>41</th>\n",
       "      <td>2/11/17</td>\n",
       "      <td>Saturday</td>\n",
       "      <td>212.0</td>\n",
       "      <td>0.91</td>\n",
       "      <td>35</td>\n",
       "      <td>0.5</td>\n",
       "      <td>21</td>\n",
       "    </tr>\n",
       "  </tbody>\n",
       "</table>\n",
       "</div>"
      ],
      "text/plain": [
       "       Date       Day  Temperature  Rainfall  Flyers  Price  Sales\n",
       "41  2/11/17  Saturday        212.0      0.91      35    0.5     21"
      ]
     },
     "execution_count": 82,
     "metadata": {},
     "output_type": "execute_result"
    }
   ],
   "source": [
    "# Temperature\n",
    "upper_outliers_temp"
   ]
  },
  {
   "cell_type": "code",
   "execution_count": 83,
   "id": "8f9c1329",
   "metadata": {},
   "outputs": [
    {
     "data": {
      "text/html": [
       "<div>\n",
       "<style scoped>\n",
       "    .dataframe tbody tr th:only-of-type {\n",
       "        vertical-align: middle;\n",
       "    }\n",
       "\n",
       "    .dataframe tbody tr th {\n",
       "        vertical-align: top;\n",
       "    }\n",
       "\n",
       "    .dataframe thead th {\n",
       "        text-align: right;\n",
       "    }\n",
       "</style>\n",
       "<table border=\"1\" class=\"dataframe\">\n",
       "  <thead>\n",
       "    <tr style=\"text-align: right;\">\n",
       "      <th></th>\n",
       "      <th>Date</th>\n",
       "      <th>Day</th>\n",
       "      <th>Temperature</th>\n",
       "      <th>Rainfall</th>\n",
       "      <th>Flyers</th>\n",
       "      <th>Price</th>\n",
       "      <th>Sales</th>\n",
       "    </tr>\n",
       "  </thead>\n",
       "  <tbody>\n",
       "    <tr>\n",
       "      <th>0</th>\n",
       "      <td>1/1/17</td>\n",
       "      <td>Sunday</td>\n",
       "      <td>27.0</td>\n",
       "      <td>2.00</td>\n",
       "      <td>15</td>\n",
       "      <td>0.5</td>\n",
       "      <td>10</td>\n",
       "    </tr>\n",
       "    <tr>\n",
       "      <th>338</th>\n",
       "      <td>12/5/17</td>\n",
       "      <td>Tuesday</td>\n",
       "      <td>22.0</td>\n",
       "      <td>1.82</td>\n",
       "      <td>11</td>\n",
       "      <td>0.5</td>\n",
       "      <td>10</td>\n",
       "    </tr>\n",
       "    <tr>\n",
       "      <th>343</th>\n",
       "      <td>12/10/17</td>\n",
       "      <td>Sunday</td>\n",
       "      <td>31.3</td>\n",
       "      <td>1.82</td>\n",
       "      <td>15</td>\n",
       "      <td>0.5</td>\n",
       "      <td>11</td>\n",
       "    </tr>\n",
       "    <tr>\n",
       "      <th>364</th>\n",
       "      <td>12/31/17</td>\n",
       "      <td>Sunday</td>\n",
       "      <td>15.1</td>\n",
       "      <td>2.50</td>\n",
       "      <td>9</td>\n",
       "      <td>0.5</td>\n",
       "      <td>7</td>\n",
       "    </tr>\n",
       "  </tbody>\n",
       "</table>\n",
       "</div>"
      ],
      "text/plain": [
       "         Date      Day  Temperature  Rainfall  Flyers  Price  Sales\n",
       "0      1/1/17   Sunday         27.0      2.00      15    0.5     10\n",
       "338   12/5/17  Tuesday         22.0      1.82      11    0.5     10\n",
       "343  12/10/17   Sunday         31.3      1.82      15    0.5     11\n",
       "364  12/31/17   Sunday         15.1      2.50       9    0.5      7"
      ]
     },
     "execution_count": 83,
     "metadata": {},
     "output_type": "execute_result"
    }
   ],
   "source": [
    "# Rainfall\n",
    "upper_outliers_Rain"
   ]
  },
  {
   "cell_type": "code",
   "execution_count": 84,
   "id": "28f69908",
   "metadata": {},
   "outputs": [
    {
     "data": {
      "text/html": [
       "<div>\n",
       "<style scoped>\n",
       "    .dataframe tbody tr th:only-of-type {\n",
       "        vertical-align: middle;\n",
       "    }\n",
       "\n",
       "    .dataframe tbody tr th {\n",
       "        vertical-align: top;\n",
       "    }\n",
       "\n",
       "    .dataframe thead th {\n",
       "        text-align: right;\n",
       "    }\n",
       "</style>\n",
       "<table border=\"1\" class=\"dataframe\">\n",
       "  <thead>\n",
       "    <tr style=\"text-align: right;\">\n",
       "      <th></th>\n",
       "      <th>Date</th>\n",
       "      <th>Day</th>\n",
       "      <th>Temperature</th>\n",
       "      <th>Rainfall</th>\n",
       "      <th>Flyers</th>\n",
       "      <th>Price</th>\n",
       "      <th>Sales</th>\n",
       "    </tr>\n",
       "  </thead>\n",
       "  <tbody>\n",
       "  </tbody>\n",
       "</table>\n",
       "</div>"
      ],
      "text/plain": [
       "Empty DataFrame\n",
       "Columns: [Date, Day, Temperature, Rainfall, Flyers, Price, Sales]\n",
       "Index: []"
      ]
     },
     "execution_count": 84,
     "metadata": {},
     "output_type": "execute_result"
    }
   ],
   "source": [
    "# Flyers\n",
    "upper_outliers_flyers"
   ]
  },
  {
   "cell_type": "code",
   "execution_count": 85,
   "id": "b55cc34f",
   "metadata": {},
   "outputs": [
    {
     "data": {
      "text/html": [
       "<div>\n",
       "<style scoped>\n",
       "    .dataframe tbody tr th:only-of-type {\n",
       "        vertical-align: middle;\n",
       "    }\n",
       "\n",
       "    .dataframe tbody tr th {\n",
       "        vertical-align: top;\n",
       "    }\n",
       "\n",
       "    .dataframe thead th {\n",
       "        text-align: right;\n",
       "    }\n",
       "</style>\n",
       "<table border=\"1\" class=\"dataframe\">\n",
       "  <thead>\n",
       "    <tr style=\"text-align: right;\">\n",
       "      <th></th>\n",
       "      <th>Date</th>\n",
       "      <th>Day</th>\n",
       "      <th>Temperature</th>\n",
       "      <th>Rainfall</th>\n",
       "      <th>Flyers</th>\n",
       "      <th>Price</th>\n",
       "      <th>Sales</th>\n",
       "    </tr>\n",
       "  </thead>\n",
       "  <tbody>\n",
       "  </tbody>\n",
       "</table>\n",
       "</div>"
      ],
      "text/plain": [
       "Empty DataFrame\n",
       "Columns: [Date, Day, Temperature, Rainfall, Flyers, Price, Sales]\n",
       "Index: []"
      ]
     },
     "execution_count": 85,
     "metadata": {},
     "output_type": "execute_result"
    }
   ],
   "source": [
    "# Price\n",
    "upper_outliers_price"
   ]
  },
  {
   "cell_type": "code",
   "execution_count": 86,
   "id": "f45550a3",
   "metadata": {},
   "outputs": [
    {
     "data": {
      "text/html": [
       "<div>\n",
       "<style scoped>\n",
       "    .dataframe tbody tr th:only-of-type {\n",
       "        vertical-align: middle;\n",
       "    }\n",
       "\n",
       "    .dataframe tbody tr th {\n",
       "        vertical-align: top;\n",
       "    }\n",
       "\n",
       "    .dataframe thead th {\n",
       "        text-align: right;\n",
       "    }\n",
       "</style>\n",
       "<table border=\"1\" class=\"dataframe\">\n",
       "  <thead>\n",
       "    <tr style=\"text-align: right;\">\n",
       "      <th></th>\n",
       "      <th>Date</th>\n",
       "      <th>Day</th>\n",
       "      <th>Temperature</th>\n",
       "      <th>Rainfall</th>\n",
       "      <th>Flyers</th>\n",
       "      <th>Price</th>\n",
       "      <th>Sales</th>\n",
       "    </tr>\n",
       "  </thead>\n",
       "  <tbody>\n",
       "    <tr>\n",
       "      <th>181</th>\n",
       "      <td>7/1/17</td>\n",
       "      <td>Saturday</td>\n",
       "      <td>102.9</td>\n",
       "      <td>0.47</td>\n",
       "      <td>59</td>\n",
       "      <td>0.5</td>\n",
       "      <td>143</td>\n",
       "    </tr>\n",
       "    <tr>\n",
       "      <th>182</th>\n",
       "      <td>7/2/17</td>\n",
       "      <td>Sunday</td>\n",
       "      <td>93.4</td>\n",
       "      <td>0.51</td>\n",
       "      <td>68</td>\n",
       "      <td>0.5</td>\n",
       "      <td>158</td>\n",
       "    </tr>\n",
       "    <tr>\n",
       "      <th>183</th>\n",
       "      <td>7/3/17</td>\n",
       "      <td>Monday</td>\n",
       "      <td>81.5</td>\n",
       "      <td>0.54</td>\n",
       "      <td>68</td>\n",
       "      <td>0.5</td>\n",
       "      <td>235</td>\n",
       "    </tr>\n",
       "    <tr>\n",
       "      <th>184</th>\n",
       "      <td>7/4/17</td>\n",
       "      <td>Tuesday</td>\n",
       "      <td>84.2</td>\n",
       "      <td>0.59</td>\n",
       "      <td>49</td>\n",
       "      <td>0.5</td>\n",
       "      <td>534</td>\n",
       "    </tr>\n",
       "  </tbody>\n",
       "</table>\n",
       "</div>"
      ],
      "text/plain": [
       "       Date       Day  Temperature  Rainfall  Flyers  Price  Sales\n",
       "181  7/1/17  Saturday        102.9      0.47      59    0.5    143\n",
       "182  7/2/17    Sunday         93.4      0.51      68    0.5    158\n",
       "183  7/3/17    Monday         81.5      0.54      68    0.5    235\n",
       "184  7/4/17   Tuesday         84.2      0.59      49    0.5    534"
      ]
     },
     "execution_count": 86,
     "metadata": {},
     "output_type": "execute_result"
    }
   ],
   "source": [
    "# Sales\n",
    "upper_outliers_sales"
   ]
  },
  {
   "cell_type": "markdown",
   "id": "fd8bfa6a",
   "metadata": {},
   "source": [
    "## 2. Two Sigma Rule\n",
    "Identify if any columns in `lemonade.csv` are normally distributed.<br>\n",
    "For normally distributed columns use the 2 sigma rule to isolate outliers. \n",
    "- Do these make sense?\n",
    "- Should certain outliers be kept or removed?"
   ]
  },
  {
   "cell_type": "code",
   "execution_count": 98,
   "id": "ac481847",
   "metadata": {},
   "outputs": [
    {
     "data": {
      "image/png": "[encoded data removed]",
      "text/plain": [
       "<Figure size 720x720 with 6 Axes>"
      ]
     },
     "metadata": {
      "needs_background": "light"
     },
     "output_type": "display_data"
    }
   ],
   "source": [
    "df.hist(figsize = (10, 10))\n",
    "plt.suptitle('Column Distributions')\n",
    "plt.show()"
   ]
  },
  {
   "cell_type": "markdown",
   "id": "a8ffbcf9",
   "metadata": {},
   "source": [
    "##### The `Temperature` column is the closest to being normally distributed, with `Flyers` being somewhat *normal-ish* so I will use these two columns for the Sigma rule questions."
   ]
  },
  {
   "cell_type": "code",
   "execution_count": 99,
   "id": "45705e1a",
   "metadata": {},
   "outputs": [],
   "source": [
    "# savings the normal columns in a list\n",
    "normal_columns = ['Temperature', 'Flyers']"
   ]
  },
  {
   "cell_type": "code",
   "execution_count": 103,
   "id": "80373744",
   "metadata": {
    "scrolled": true
   },
   "outputs": [],
   "source": [
    "# finds the zscores for each value in the series\n",
    "df['z_Temp'] = (df.Temperature - df.Temperature.mean()) / df.Temperature.std()\n",
    "df['z_Flyer'] = (df.Flyers - df.Flyers.mean()) / df.Flyers.std()"
   ]
  },
  {
   "cell_type": "code",
   "execution_count": 104,
   "id": "6d8d7752",
   "metadata": {},
   "outputs": [
    {
     "data": {
      "text/html": [
       "<div>\n",
       "<style scoped>\n",
       "    .dataframe tbody tr th:only-of-type {\n",
       "        vertical-align: middle;\n",
       "    }\n",
       "\n",
       "    .dataframe tbody tr th {\n",
       "        vertical-align: top;\n",
       "    }\n",
       "\n",
       "    .dataframe thead th {\n",
       "        text-align: right;\n",
       "    }\n",
       "</style>\n",
       "<table border=\"1\" class=\"dataframe\">\n",
       "  <thead>\n",
       "    <tr style=\"text-align: right;\">\n",
       "      <th></th>\n",
       "      <th>Date</th>\n",
       "      <th>Day</th>\n",
       "      <th>Temperature</th>\n",
       "      <th>Rainfall</th>\n",
       "      <th>Flyers</th>\n",
       "      <th>Price</th>\n",
       "      <th>Sales</th>\n",
       "      <th>z_Temp</th>\n",
       "      <th>z_Flyer</th>\n",
       "    </tr>\n",
       "  </thead>\n",
       "  <tbody>\n",
       "    <tr>\n",
       "      <th>0</th>\n",
       "      <td>1/1/17</td>\n",
       "      <td>Sunday</td>\n",
       "      <td>27.0</td>\n",
       "      <td>2.00</td>\n",
       "      <td>15</td>\n",
       "      <td>0.5</td>\n",
       "      <td>10</td>\n",
       "      <td>-1.892340</td>\n",
       "      <td>-1.820927</td>\n",
       "    </tr>\n",
       "    <tr>\n",
       "      <th>1</th>\n",
       "      <td>1/2/17</td>\n",
       "      <td>Monday</td>\n",
       "      <td>28.9</td>\n",
       "      <td>1.33</td>\n",
       "      <td>15</td>\n",
       "      <td>0.5</td>\n",
       "      <td>13</td>\n",
       "      <td>-1.787286</td>\n",
       "      <td>-1.820927</td>\n",
       "    </tr>\n",
       "    <tr>\n",
       "      <th>2</th>\n",
       "      <td>1/3/17</td>\n",
       "      <td>Tuesday</td>\n",
       "      <td>34.5</td>\n",
       "      <td>1.33</td>\n",
       "      <td>27</td>\n",
       "      <td>0.5</td>\n",
       "      <td>15</td>\n",
       "      <td>-1.477652</td>\n",
       "      <td>-0.950507</td>\n",
       "    </tr>\n",
       "    <tr>\n",
       "      <th>3</th>\n",
       "      <td>1/4/17</td>\n",
       "      <td>Wednesday</td>\n",
       "      <td>44.1</td>\n",
       "      <td>1.05</td>\n",
       "      <td>28</td>\n",
       "      <td>0.5</td>\n",
       "      <td>17</td>\n",
       "      <td>-0.946852</td>\n",
       "      <td>-0.877972</td>\n",
       "    </tr>\n",
       "    <tr>\n",
       "      <th>4</th>\n",
       "      <td>1/5/17</td>\n",
       "      <td>Thursday</td>\n",
       "      <td>42.4</td>\n",
       "      <td>1.00</td>\n",
       "      <td>33</td>\n",
       "      <td>0.5</td>\n",
       "      <td>18</td>\n",
       "      <td>-1.040848</td>\n",
       "      <td>-0.515297</td>\n",
       "    </tr>\n",
       "  </tbody>\n",
       "</table>\n",
       "</div>"
      ],
      "text/plain": [
       "     Date        Day  Temperature  Rainfall  Flyers  Price  Sales    z_Temp  \\\n",
       "0  1/1/17     Sunday         27.0      2.00      15    0.5     10 -1.892340   \n",
       "1  1/2/17     Monday         28.9      1.33      15    0.5     13 -1.787286   \n",
       "2  1/3/17    Tuesday         34.5      1.33      27    0.5     15 -1.477652   \n",
       "3  1/4/17  Wednesday         44.1      1.05      28    0.5     17 -0.946852   \n",
       "4  1/5/17   Thursday         42.4      1.00      33    0.5     18 -1.040848   \n",
       "\n",
       "    z_Flyer  \n",
       "0 -1.820927  \n",
       "1 -1.820927  \n",
       "2 -0.950507  \n",
       "3 -0.877972  \n",
       "4 -0.515297  "
      ]
     },
     "execution_count": 104,
     "metadata": {},
     "output_type": "execute_result"
    }
   ],
   "source": [
    "df.head()"
   ]
  },
  {
   "cell_type": "code",
   "execution_count": 107,
   "id": "e30dc9bb",
   "metadata": {},
   "outputs": [
    {
     "data": {
      "text/html": [
       "<div>\n",
       "<style scoped>\n",
       "    .dataframe tbody tr th:only-of-type {\n",
       "        vertical-align: middle;\n",
       "    }\n",
       "\n",
       "    .dataframe tbody tr th {\n",
       "        vertical-align: top;\n",
       "    }\n",
       "\n",
       "    .dataframe thead th {\n",
       "        text-align: right;\n",
       "    }\n",
       "</style>\n",
       "<table border=\"1\" class=\"dataframe\">\n",
       "  <thead>\n",
       "    <tr style=\"text-align: right;\">\n",
       "      <th></th>\n",
       "      <th>Date</th>\n",
       "      <th>Day</th>\n",
       "      <th>Temperature</th>\n",
       "      <th>Rainfall</th>\n",
       "      <th>Flyers</th>\n",
       "      <th>Price</th>\n",
       "      <th>Sales</th>\n",
       "      <th>z_Temp</th>\n",
       "      <th>z_Flyer</th>\n",
       "      <th>Temp &gt; 2</th>\n",
       "      <th>Temp &gt; 3</th>\n",
       "      <th>Flyer &gt; 2</th>\n",
       "      <th>Flyer &gt; 3</th>\n",
       "    </tr>\n",
       "  </thead>\n",
       "  <tbody>\n",
       "    <tr>\n",
       "      <th>0</th>\n",
       "      <td>1/1/17</td>\n",
       "      <td>Sunday</td>\n",
       "      <td>27.0</td>\n",
       "      <td>2.00</td>\n",
       "      <td>15</td>\n",
       "      <td>0.5</td>\n",
       "      <td>10</td>\n",
       "      <td>-1.892340</td>\n",
       "      <td>-1.820927</td>\n",
       "      <td>False</td>\n",
       "      <td>False</td>\n",
       "      <td>False</td>\n",
       "      <td>False</td>\n",
       "    </tr>\n",
       "    <tr>\n",
       "      <th>1</th>\n",
       "      <td>1/2/17</td>\n",
       "      <td>Monday</td>\n",
       "      <td>28.9</td>\n",
       "      <td>1.33</td>\n",
       "      <td>15</td>\n",
       "      <td>0.5</td>\n",
       "      <td>13</td>\n",
       "      <td>-1.787286</td>\n",
       "      <td>-1.820927</td>\n",
       "      <td>False</td>\n",
       "      <td>False</td>\n",
       "      <td>False</td>\n",
       "      <td>False</td>\n",
       "    </tr>\n",
       "    <tr>\n",
       "      <th>2</th>\n",
       "      <td>1/3/17</td>\n",
       "      <td>Tuesday</td>\n",
       "      <td>34.5</td>\n",
       "      <td>1.33</td>\n",
       "      <td>27</td>\n",
       "      <td>0.5</td>\n",
       "      <td>15</td>\n",
       "      <td>-1.477652</td>\n",
       "      <td>-0.950507</td>\n",
       "      <td>False</td>\n",
       "      <td>False</td>\n",
       "      <td>False</td>\n",
       "      <td>False</td>\n",
       "    </tr>\n",
       "    <tr>\n",
       "      <th>3</th>\n",
       "      <td>1/4/17</td>\n",
       "      <td>Wednesday</td>\n",
       "      <td>44.1</td>\n",
       "      <td>1.05</td>\n",
       "      <td>28</td>\n",
       "      <td>0.5</td>\n",
       "      <td>17</td>\n",
       "      <td>-0.946852</td>\n",
       "      <td>-0.877972</td>\n",
       "      <td>False</td>\n",
       "      <td>False</td>\n",
       "      <td>False</td>\n",
       "      <td>False</td>\n",
       "    </tr>\n",
       "    <tr>\n",
       "      <th>4</th>\n",
       "      <td>1/5/17</td>\n",
       "      <td>Thursday</td>\n",
       "      <td>42.4</td>\n",
       "      <td>1.00</td>\n",
       "      <td>33</td>\n",
       "      <td>0.5</td>\n",
       "      <td>18</td>\n",
       "      <td>-1.040848</td>\n",
       "      <td>-0.515297</td>\n",
       "      <td>False</td>\n",
       "      <td>False</td>\n",
       "      <td>False</td>\n",
       "      <td>False</td>\n",
       "    </tr>\n",
       "  </tbody>\n",
       "</table>\n",
       "</div>"
      ],
      "text/plain": [
       "     Date        Day  Temperature  Rainfall  Flyers  Price  Sales    z_Temp  \\\n",
       "0  1/1/17     Sunday         27.0      2.00      15    0.5     10 -1.892340   \n",
       "1  1/2/17     Monday         28.9      1.33      15    0.5     13 -1.787286   \n",
       "2  1/3/17    Tuesday         34.5      1.33      27    0.5     15 -1.477652   \n",
       "3  1/4/17  Wednesday         44.1      1.05      28    0.5     17 -0.946852   \n",
       "4  1/5/17   Thursday         42.4      1.00      33    0.5     18 -1.040848   \n",
       "\n",
       "    z_Flyer  Temp > 2  Temp > 3  Flyer > 2  Flyer > 3  \n",
       "0 -1.820927     False     False      False      False  \n",
       "1 -1.820927     False     False      False      False  \n",
       "2 -0.950507     False     False      False      False  \n",
       "3 -0.877972     False     False      False      False  \n",
       "4 -0.515297     False     False      False      False  "
      ]
     },
     "execution_count": 107,
     "metadata": {},
     "output_type": "execute_result"
    }
   ],
   "source": [
    "# adding columns for temperatures outside of 2 and 3 std deviations\n",
    "df['Temp > 2'] = df.z_Temp.abs() > 2\n",
    "df['Temp > 3'] = df.z_Temp.abs() > 3\n",
    "df['Flyer > 2'] = df.z_Temp.abs() > 2\n",
    "df['Flyer > 3'] = df.z_Temp.abs() > 3\n",
    "\n",
    "df.head()\n"
   ]
  },
  {
   "cell_type": "code",
   "execution_count": 110,
   "id": "e91d21a8",
   "metadata": {},
   "outputs": [
    {
     "data": {
      "text/plain": [
       "Index(['Date', 'Day', 'Temperature', 'Rainfall', 'Flyers', 'Price', 'Sales',\n",
       "       'z_Temp', 'z_Flyer', 'Temp > 2', 'Temp > 3', 'Flyer > 2', 'Flyer > 3'],\n",
       "      dtype='object')"
      ]
     },
     "execution_count": 110,
     "metadata": {},
     "output_type": "execute_result"
    }
   ],
   "source": [
    "df.columns"
   ]
  },
  {
   "cell_type": "markdown",
   "id": "af750d6f",
   "metadata": {},
   "source": [
    "### Temperature 2 and 3 Sigma Rule"
   ]
  },
  {
   "cell_type": "code",
   "execution_count": 160,
   "id": "6d47ecc3",
   "metadata": {},
   "outputs": [
    {
     "name": "stderr",
     "output_type": "stream",
     "text": [
      "/usr/local/anaconda3/lib/python3.8/site-packages/seaborn/_decorators.py:36: FutureWarning: Pass the following variable as a keyword arg: x. From version 0.12, the only valid positional argument will be `data`, and passing other arguments without an explicit keyword will result in an error or misinterpretation.\n",
      "  warnings.warn(\n"
     ]
    },
    {
     "data": {
      "image/png": "[encoded data removed]",
      "text/plain": [
       "<Figure size 432x288 with 2 Axes>"
      ]
     },
     "metadata": {},
     "output_type": "display_data"
    }
   ],
   "source": [
    "# set a grey background (use sns.set_theme() if seaborn version 0.11.0 or above) \n",
    "sns.set(style = \"darkgrid\")\n",
    "\n",
    "# creating a figure composed of two matplotlib.Axes objects (ax_box and ax_hist)\n",
    "f, (ax_box, ax_hist) = plt.subplots(2, sharex = True, gridspec_kw = {\"height_ratios\" : (.75, 2)})\n",
    " \n",
    "# assigning a graph to each ax\n",
    "sns.boxplot(df[\"Temperature\"], ax = ax_box)\n",
    "sns.histplot(data=df, x=\"Temperature\", ax = ax_hist)\n",
    " \n",
    "# Remove x axis name for the boxplot\n",
    "ax_box.set(xlabel = '')\n",
    "plt.show();"
   ]
  },
  {
   "cell_type": "code",
   "execution_count": 117,
   "id": "7e974f55",
   "metadata": {
    "scrolled": true
   },
   "outputs": [
    {
     "name": "stdout",
     "output_type": "stream",
     "text": [
      "Observations outside of x2 standard deviations of Temperature\n"
     ]
    },
    {
     "data": {
      "text/html": [
       "<div>\n",
       "<style scoped>\n",
       "    .dataframe tbody tr th:only-of-type {\n",
       "        vertical-align: middle;\n",
       "    }\n",
       "\n",
       "    .dataframe tbody tr th {\n",
       "        vertical-align: top;\n",
       "    }\n",
       "\n",
       "    .dataframe thead th {\n",
       "        text-align: right;\n",
       "    }\n",
       "</style>\n",
       "<table border=\"1\" class=\"dataframe\">\n",
       "  <thead>\n",
       "    <tr style=\"text-align: right;\">\n",
       "      <th></th>\n",
       "      <th>Date</th>\n",
       "      <th>Day</th>\n",
       "      <th>Temperature</th>\n",
       "      <th>Rainfall</th>\n",
       "      <th>Flyers</th>\n",
       "      <th>Price</th>\n",
       "      <th>Sales</th>\n",
       "      <th>z_Temp</th>\n",
       "      <th>z_Flyer</th>\n",
       "      <th>Temp &gt; 2</th>\n",
       "      <th>Temp &gt; 3</th>\n",
       "      <th>Flyer &gt; 2</th>\n",
       "      <th>Flyer &gt; 3</th>\n",
       "    </tr>\n",
       "  </thead>\n",
       "  <tbody>\n",
       "    <tr>\n",
       "      <th>41</th>\n",
       "      <td>2/11/17</td>\n",
       "      <td>Saturday</td>\n",
       "      <td>212.0</td>\n",
       "      <td>0.91</td>\n",
       "      <td>35</td>\n",
       "      <td>0.5</td>\n",
       "      <td>21</td>\n",
       "      <td>8.336627</td>\n",
       "      <td>-0.370227</td>\n",
       "      <td>True</td>\n",
       "      <td>True</td>\n",
       "      <td>True</td>\n",
       "      <td>True</td>\n",
       "    </tr>\n",
       "    <tr>\n",
       "      <th>166</th>\n",
       "      <td>6/16/17</td>\n",
       "      <td>Friday</td>\n",
       "      <td>99.3</td>\n",
       "      <td>0.47</td>\n",
       "      <td>77</td>\n",
       "      <td>0.5</td>\n",
       "      <td>41</td>\n",
       "      <td>2.105251</td>\n",
       "      <td>2.676244</td>\n",
       "      <td>True</td>\n",
       "      <td>False</td>\n",
       "      <td>True</td>\n",
       "      <td>False</td>\n",
       "    </tr>\n",
       "    <tr>\n",
       "      <th>176</th>\n",
       "      <td>6/26/17</td>\n",
       "      <td>Monday</td>\n",
       "      <td>102.6</td>\n",
       "      <td>0.47</td>\n",
       "      <td>60</td>\n",
       "      <td>0.5</td>\n",
       "      <td>42</td>\n",
       "      <td>2.287714</td>\n",
       "      <td>1.443149</td>\n",
       "      <td>True</td>\n",
       "      <td>False</td>\n",
       "      <td>True</td>\n",
       "      <td>False</td>\n",
       "    </tr>\n",
       "    <tr>\n",
       "      <th>181</th>\n",
       "      <td>7/1/17</td>\n",
       "      <td>Saturday</td>\n",
       "      <td>102.9</td>\n",
       "      <td>0.47</td>\n",
       "      <td>59</td>\n",
       "      <td>0.5</td>\n",
       "      <td>143</td>\n",
       "      <td>2.304301</td>\n",
       "      <td>1.370614</td>\n",
       "      <td>True</td>\n",
       "      <td>False</td>\n",
       "      <td>True</td>\n",
       "      <td>False</td>\n",
       "    </tr>\n",
       "    <tr>\n",
       "      <th>190</th>\n",
       "      <td>7/10/17</td>\n",
       "      <td>Monday</td>\n",
       "      <td>98.0</td>\n",
       "      <td>0.49</td>\n",
       "      <td>66</td>\n",
       "      <td>0.5</td>\n",
       "      <td>40</td>\n",
       "      <td>2.033372</td>\n",
       "      <td>1.878359</td>\n",
       "      <td>True</td>\n",
       "      <td>False</td>\n",
       "      <td>True</td>\n",
       "      <td>False</td>\n",
       "    </tr>\n",
       "    <tr>\n",
       "      <th>198</th>\n",
       "      <td>7/18/17</td>\n",
       "      <td>Tuesday</td>\n",
       "      <td>99.3</td>\n",
       "      <td>0.47</td>\n",
       "      <td>76</td>\n",
       "      <td>0.5</td>\n",
       "      <td>41</td>\n",
       "      <td>2.105251</td>\n",
       "      <td>2.603709</td>\n",
       "      <td>True</td>\n",
       "      <td>False</td>\n",
       "      <td>True</td>\n",
       "      <td>False</td>\n",
       "    </tr>\n",
       "    <tr>\n",
       "      <th>202</th>\n",
       "      <td>7/22/17</td>\n",
       "      <td>Saturday</td>\n",
       "      <td>99.6</td>\n",
       "      <td>0.47</td>\n",
       "      <td>49</td>\n",
       "      <td>0.5</td>\n",
       "      <td>42</td>\n",
       "      <td>2.121838</td>\n",
       "      <td>0.645264</td>\n",
       "      <td>True</td>\n",
       "      <td>False</td>\n",
       "      <td>True</td>\n",
       "      <td>False</td>\n",
       "    </tr>\n",
       "    <tr>\n",
       "      <th>207</th>\n",
       "      <td>7/27/17</td>\n",
       "      <td>Thursday</td>\n",
       "      <td>97.9</td>\n",
       "      <td>0.47</td>\n",
       "      <td>74</td>\n",
       "      <td>0.5</td>\n",
       "      <td>43</td>\n",
       "      <td>2.027843</td>\n",
       "      <td>2.458639</td>\n",
       "      <td>True</td>\n",
       "      <td>False</td>\n",
       "      <td>True</td>\n",
       "      <td>False</td>\n",
       "    </tr>\n",
       "    <tr>\n",
       "      <th>338</th>\n",
       "      <td>12/5/17</td>\n",
       "      <td>Tuesday</td>\n",
       "      <td>22.0</td>\n",
       "      <td>1.82</td>\n",
       "      <td>11</td>\n",
       "      <td>0.5</td>\n",
       "      <td>10</td>\n",
       "      <td>-2.168799</td>\n",
       "      <td>-2.111067</td>\n",
       "      <td>True</td>\n",
       "      <td>False</td>\n",
       "      <td>True</td>\n",
       "      <td>False</td>\n",
       "    </tr>\n",
       "    <tr>\n",
       "      <th>364</th>\n",
       "      <td>12/31/17</td>\n",
       "      <td>Sunday</td>\n",
       "      <td>15.1</td>\n",
       "      <td>2.50</td>\n",
       "      <td>9</td>\n",
       "      <td>0.5</td>\n",
       "      <td>7</td>\n",
       "      <td>-2.550311</td>\n",
       "      <td>-2.256137</td>\n",
       "      <td>True</td>\n",
       "      <td>False</td>\n",
       "      <td>True</td>\n",
       "      <td>False</td>\n",
       "    </tr>\n",
       "  </tbody>\n",
       "</table>\n",
       "</div>"
      ],
      "text/plain": [
       "         Date       Day  Temperature  Rainfall  Flyers  Price  Sales  \\\n",
       "41    2/11/17  Saturday        212.0      0.91      35    0.5     21   \n",
       "166   6/16/17    Friday         99.3      0.47      77    0.5     41   \n",
       "176   6/26/17    Monday        102.6      0.47      60    0.5     42   \n",
       "181    7/1/17  Saturday        102.9      0.47      59    0.5    143   \n",
       "190   7/10/17    Monday         98.0      0.49      66    0.5     40   \n",
       "198   7/18/17   Tuesday         99.3      0.47      76    0.5     41   \n",
       "202   7/22/17  Saturday         99.6      0.47      49    0.5     42   \n",
       "207   7/27/17  Thursday         97.9      0.47      74    0.5     43   \n",
       "338   12/5/17   Tuesday         22.0      1.82      11    0.5     10   \n",
       "364  12/31/17    Sunday         15.1      2.50       9    0.5      7   \n",
       "\n",
       "       z_Temp   z_Flyer  Temp > 2  Temp > 3  Flyer > 2  Flyer > 3  \n",
       "41   8.336627 -0.370227      True      True       True       True  \n",
       "166  2.105251  2.676244      True     False       True      False  \n",
       "176  2.287714  1.443149      True     False       True      False  \n",
       "181  2.304301  1.370614      True     False       True      False  \n",
       "190  2.033372  1.878359      True     False       True      False  \n",
       "198  2.105251  2.603709      True     False       True      False  \n",
       "202  2.121838  0.645264      True     False       True      False  \n",
       "207  2.027843  2.458639      True     False       True      False  \n",
       "338 -2.168799 -2.111067      True     False       True      False  \n",
       "364 -2.550311 -2.256137      True     False       True      False  "
      ]
     },
     "execution_count": 117,
     "metadata": {},
     "output_type": "execute_result"
    }
   ],
   "source": [
    "print('Observations outside of x2 standard deviations of Temperature')\n",
    "df[df['Temp > 2'] == True]"
   ]
  },
  {
   "cell_type": "code",
   "execution_count": 118,
   "id": "9e7543d9",
   "metadata": {},
   "outputs": [
    {
     "name": "stdout",
     "output_type": "stream",
     "text": [
      "Observations outside of x3 standard deviations of Temperature\n"
     ]
    },
    {
     "data": {
      "text/html": [
       "<div>\n",
       "<style scoped>\n",
       "    .dataframe tbody tr th:only-of-type {\n",
       "        vertical-align: middle;\n",
       "    }\n",
       "\n",
       "    .dataframe tbody tr th {\n",
       "        vertical-align: top;\n",
       "    }\n",
       "\n",
       "    .dataframe thead th {\n",
       "        text-align: right;\n",
       "    }\n",
       "</style>\n",
       "<table border=\"1\" class=\"dataframe\">\n",
       "  <thead>\n",
       "    <tr style=\"text-align: right;\">\n",
       "      <th></th>\n",
       "      <th>Date</th>\n",
       "      <th>Day</th>\n",
       "      <th>Temperature</th>\n",
       "      <th>Rainfall</th>\n",
       "      <th>Flyers</th>\n",
       "      <th>Price</th>\n",
       "      <th>Sales</th>\n",
       "      <th>z_Temp</th>\n",
       "      <th>z_Flyer</th>\n",
       "      <th>Temp &gt; 2</th>\n",
       "      <th>Temp &gt; 3</th>\n",
       "      <th>Flyer &gt; 2</th>\n",
       "      <th>Flyer &gt; 3</th>\n",
       "    </tr>\n",
       "  </thead>\n",
       "  <tbody>\n",
       "    <tr>\n",
       "      <th>41</th>\n",
       "      <td>2/11/17</td>\n",
       "      <td>Saturday</td>\n",
       "      <td>212.0</td>\n",
       "      <td>0.91</td>\n",
       "      <td>35</td>\n",
       "      <td>0.5</td>\n",
       "      <td>21</td>\n",
       "      <td>8.336627</td>\n",
       "      <td>-0.370227</td>\n",
       "      <td>True</td>\n",
       "      <td>True</td>\n",
       "      <td>True</td>\n",
       "      <td>True</td>\n",
       "    </tr>\n",
       "  </tbody>\n",
       "</table>\n",
       "</div>"
      ],
      "text/plain": [
       "       Date       Day  Temperature  Rainfall  Flyers  Price  Sales    z_Temp  \\\n",
       "41  2/11/17  Saturday        212.0      0.91      35    0.5     21  8.336627   \n",
       "\n",
       "     z_Flyer  Temp > 2  Temp > 3  Flyer > 2  Flyer > 3  \n",
       "41 -0.370227      True      True       True       True  "
      ]
     },
     "execution_count": 118,
     "metadata": {},
     "output_type": "execute_result"
    }
   ],
   "source": [
    "print('Observations outside of x3 standard deviations of Temperature')\n",
    "df[df['Temp > 3'] == True]"
   ]
  },
  {
   "cell_type": "code",
   "execution_count": 140,
   "id": "73ee6c13",
   "metadata": {},
   "outputs": [
    {
     "data": {
      "image/png": "[encoded data removed]",
      "text/plain": [
       "<Figure size 720x432 with 1 Axes>"
      ]
     },
     "metadata": {
      "needs_background": "light"
     },
     "output_type": "display_data"
    }
   ],
   "source": [
    "df.Temperature.hist(figsize = (10, 6))\n",
    "plt.axvline(df.Temperature.median(), color = 'r', linestyle = 'dashed', linewidth = 2)\n",
    "plt.show()"
   ]
  },
  {
   "cell_type": "markdown",
   "id": "8a711524",
   "metadata": {},
   "source": [
    "Code Reference: [python-graph-gallery](https://www.python-graph-gallery.com/24-histogram-with-a-boxplot-on-top-seaborn)"
   ]
  },
  {
   "cell_type": "markdown",
   "id": "20575a3f",
   "metadata": {},
   "source": [
    "### Flyers 2 and 3 Sigma Rule"
   ]
  },
  {
   "cell_type": "code",
   "execution_count": 164,
   "id": "724a8ecc",
   "metadata": {},
   "outputs": [
    {
     "name": "stderr",
     "output_type": "stream",
     "text": [
      "/usr/local/anaconda3/lib/python3.8/site-packages/seaborn/_decorators.py:36: FutureWarning: Pass the following variable as a keyword arg: x. From version 0.12, the only valid positional argument will be `data`, and passing other arguments without an explicit keyword will result in an error or misinterpretation.\n",
      "  warnings.warn(\n"
     ]
    },
    {
     "data": {
      "image/png": "[encoded data removed]",
      "text/plain": [
       "<Figure size 432x288 with 2 Axes>"
      ]
     },
     "metadata": {},
     "output_type": "display_data"
    }
   ],
   "source": [
    "# creating a figure composed of two matplotlib.Axes objects (ax_box and ax_hist)\n",
    "f, (ax_box, ax_hist) = plt.subplots(2, sharex = True, gridspec_kw = {\"height_ratios\" : (.75, 2)})\n",
    " \n",
    "# assigning a graph to each ax\n",
    "sns.boxplot(df[\"Flyers\"], ax = ax_box)\n",
    "sns.histplot(data=df, x=\"Flyers\", ax = ax_hist)\n",
    " \n",
    "# Remove x axis name for the boxplot\n",
    "ax_box.set(xlabel = '')\n",
    "plt.show();"
   ]
  },
  {
   "cell_type": "code",
   "execution_count": 120,
   "id": "501f3910",
   "metadata": {},
   "outputs": [
    {
     "name": "stdout",
     "output_type": "stream",
     "text": [
      "Observations outside of x2 standard deviations of Flyer\n"
     ]
    },
    {
     "data": {
      "text/html": [
       "<div>\n",
       "<style scoped>\n",
       "    .dataframe tbody tr th:only-of-type {\n",
       "        vertical-align: middle;\n",
       "    }\n",
       "\n",
       "    .dataframe tbody tr th {\n",
       "        vertical-align: top;\n",
       "    }\n",
       "\n",
       "    .dataframe thead th {\n",
       "        text-align: right;\n",
       "    }\n",
       "</style>\n",
       "<table border=\"1\" class=\"dataframe\">\n",
       "  <thead>\n",
       "    <tr style=\"text-align: right;\">\n",
       "      <th></th>\n",
       "      <th>Date</th>\n",
       "      <th>Day</th>\n",
       "      <th>Temperature</th>\n",
       "      <th>Rainfall</th>\n",
       "      <th>Flyers</th>\n",
       "      <th>Price</th>\n",
       "      <th>Sales</th>\n",
       "      <th>z_Temp</th>\n",
       "      <th>z_Flyer</th>\n",
       "      <th>Temp &gt; 2</th>\n",
       "      <th>Temp &gt; 3</th>\n",
       "      <th>Flyer &gt; 2</th>\n",
       "      <th>Flyer &gt; 3</th>\n",
       "    </tr>\n",
       "  </thead>\n",
       "  <tbody>\n",
       "    <tr>\n",
       "      <th>41</th>\n",
       "      <td>2/11/17</td>\n",
       "      <td>Saturday</td>\n",
       "      <td>212.0</td>\n",
       "      <td>0.91</td>\n",
       "      <td>35</td>\n",
       "      <td>0.5</td>\n",
       "      <td>21</td>\n",
       "      <td>8.336627</td>\n",
       "      <td>-0.370227</td>\n",
       "      <td>True</td>\n",
       "      <td>True</td>\n",
       "      <td>True</td>\n",
       "      <td>True</td>\n",
       "    </tr>\n",
       "    <tr>\n",
       "      <th>166</th>\n",
       "      <td>6/16/17</td>\n",
       "      <td>Friday</td>\n",
       "      <td>99.3</td>\n",
       "      <td>0.47</td>\n",
       "      <td>77</td>\n",
       "      <td>0.5</td>\n",
       "      <td>41</td>\n",
       "      <td>2.105251</td>\n",
       "      <td>2.676244</td>\n",
       "      <td>True</td>\n",
       "      <td>False</td>\n",
       "      <td>True</td>\n",
       "      <td>False</td>\n",
       "    </tr>\n",
       "    <tr>\n",
       "      <th>176</th>\n",
       "      <td>6/26/17</td>\n",
       "      <td>Monday</td>\n",
       "      <td>102.6</td>\n",
       "      <td>0.47</td>\n",
       "      <td>60</td>\n",
       "      <td>0.5</td>\n",
       "      <td>42</td>\n",
       "      <td>2.287714</td>\n",
       "      <td>1.443149</td>\n",
       "      <td>True</td>\n",
       "      <td>False</td>\n",
       "      <td>True</td>\n",
       "      <td>False</td>\n",
       "    </tr>\n",
       "    <tr>\n",
       "      <th>181</th>\n",
       "      <td>7/1/17</td>\n",
       "      <td>Saturday</td>\n",
       "      <td>102.9</td>\n",
       "      <td>0.47</td>\n",
       "      <td>59</td>\n",
       "      <td>0.5</td>\n",
       "      <td>143</td>\n",
       "      <td>2.304301</td>\n",
       "      <td>1.370614</td>\n",
       "      <td>True</td>\n",
       "      <td>False</td>\n",
       "      <td>True</td>\n",
       "      <td>False</td>\n",
       "    </tr>\n",
       "    <tr>\n",
       "      <th>190</th>\n",
       "      <td>7/10/17</td>\n",
       "      <td>Monday</td>\n",
       "      <td>98.0</td>\n",
       "      <td>0.49</td>\n",
       "      <td>66</td>\n",
       "      <td>0.5</td>\n",
       "      <td>40</td>\n",
       "      <td>2.033372</td>\n",
       "      <td>1.878359</td>\n",
       "      <td>True</td>\n",
       "      <td>False</td>\n",
       "      <td>True</td>\n",
       "      <td>False</td>\n",
       "    </tr>\n",
       "    <tr>\n",
       "      <th>198</th>\n",
       "      <td>7/18/17</td>\n",
       "      <td>Tuesday</td>\n",
       "      <td>99.3</td>\n",
       "      <td>0.47</td>\n",
       "      <td>76</td>\n",
       "      <td>0.5</td>\n",
       "      <td>41</td>\n",
       "      <td>2.105251</td>\n",
       "      <td>2.603709</td>\n",
       "      <td>True</td>\n",
       "      <td>False</td>\n",
       "      <td>True</td>\n",
       "      <td>False</td>\n",
       "    </tr>\n",
       "    <tr>\n",
       "      <th>202</th>\n",
       "      <td>7/22/17</td>\n",
       "      <td>Saturday</td>\n",
       "      <td>99.6</td>\n",
       "      <td>0.47</td>\n",
       "      <td>49</td>\n",
       "      <td>0.5</td>\n",
       "      <td>42</td>\n",
       "      <td>2.121838</td>\n",
       "      <td>0.645264</td>\n",
       "      <td>True</td>\n",
       "      <td>False</td>\n",
       "      <td>True</td>\n",
       "      <td>False</td>\n",
       "    </tr>\n",
       "    <tr>\n",
       "      <th>207</th>\n",
       "      <td>7/27/17</td>\n",
       "      <td>Thursday</td>\n",
       "      <td>97.9</td>\n",
       "      <td>0.47</td>\n",
       "      <td>74</td>\n",
       "      <td>0.5</td>\n",
       "      <td>43</td>\n",
       "      <td>2.027843</td>\n",
       "      <td>2.458639</td>\n",
       "      <td>True</td>\n",
       "      <td>False</td>\n",
       "      <td>True</td>\n",
       "      <td>False</td>\n",
       "    </tr>\n",
       "    <tr>\n",
       "      <th>338</th>\n",
       "      <td>12/5/17</td>\n",
       "      <td>Tuesday</td>\n",
       "      <td>22.0</td>\n",
       "      <td>1.82</td>\n",
       "      <td>11</td>\n",
       "      <td>0.5</td>\n",
       "      <td>10</td>\n",
       "      <td>-2.168799</td>\n",
       "      <td>-2.111067</td>\n",
       "      <td>True</td>\n",
       "      <td>False</td>\n",
       "      <td>True</td>\n",
       "      <td>False</td>\n",
       "    </tr>\n",
       "    <tr>\n",
       "      <th>364</th>\n",
       "      <td>12/31/17</td>\n",
       "      <td>Sunday</td>\n",
       "      <td>15.1</td>\n",
       "      <td>2.50</td>\n",
       "      <td>9</td>\n",
       "      <td>0.5</td>\n",
       "      <td>7</td>\n",
       "      <td>-2.550311</td>\n",
       "      <td>-2.256137</td>\n",
       "      <td>True</td>\n",
       "      <td>False</td>\n",
       "      <td>True</td>\n",
       "      <td>False</td>\n",
       "    </tr>\n",
       "  </tbody>\n",
       "</table>\n",
       "</div>"
      ],
      "text/plain": [
       "         Date       Day  Temperature  Rainfall  Flyers  Price  Sales  \\\n",
       "41    2/11/17  Saturday        212.0      0.91      35    0.5     21   \n",
       "166   6/16/17    Friday         99.3      0.47      77    0.5     41   \n",
       "176   6/26/17    Monday        102.6      0.47      60    0.5     42   \n",
       "181    7/1/17  Saturday        102.9      0.47      59    0.5    143   \n",
       "190   7/10/17    Monday         98.0      0.49      66    0.5     40   \n",
       "198   7/18/17   Tuesday         99.3      0.47      76    0.5     41   \n",
       "202   7/22/17  Saturday         99.6      0.47      49    0.5     42   \n",
       "207   7/27/17  Thursday         97.9      0.47      74    0.5     43   \n",
       "338   12/5/17   Tuesday         22.0      1.82      11    0.5     10   \n",
       "364  12/31/17    Sunday         15.1      2.50       9    0.5      7   \n",
       "\n",
       "       z_Temp   z_Flyer  Temp > 2  Temp > 3  Flyer > 2  Flyer > 3  \n",
       "41   8.336627 -0.370227      True      True       True       True  \n",
       "166  2.105251  2.676244      True     False       True      False  \n",
       "176  2.287714  1.443149      True     False       True      False  \n",
       "181  2.304301  1.370614      True     False       True      False  \n",
       "190  2.033372  1.878359      True     False       True      False  \n",
       "198  2.105251  2.603709      True     False       True      False  \n",
       "202  2.121838  0.645264      True     False       True      False  \n",
       "207  2.027843  2.458639      True     False       True      False  \n",
       "338 -2.168799 -2.111067      True     False       True      False  \n",
       "364 -2.550311 -2.256137      True     False       True      False  "
      ]
     },
     "execution_count": 120,
     "metadata": {},
     "output_type": "execute_result"
    }
   ],
   "source": [
    "print('Observations outside of x2 standard deviations of Flyer')\n",
    "df[df['Flyer > 2'] == True]"
   ]
  },
  {
   "cell_type": "code",
   "execution_count": 119,
   "id": "c792b725",
   "metadata": {},
   "outputs": [
    {
     "name": "stdout",
     "output_type": "stream",
     "text": [
      "Observations outside of x3 standard deviations of Flyer\n"
     ]
    },
    {
     "data": {
      "text/html": [
       "<div>\n",
       "<style scoped>\n",
       "    .dataframe tbody tr th:only-of-type {\n",
       "        vertical-align: middle;\n",
       "    }\n",
       "\n",
       "    .dataframe tbody tr th {\n",
       "        vertical-align: top;\n",
       "    }\n",
       "\n",
       "    .dataframe thead th {\n",
       "        text-align: right;\n",
       "    }\n",
       "</style>\n",
       "<table border=\"1\" class=\"dataframe\">\n",
       "  <thead>\n",
       "    <tr style=\"text-align: right;\">\n",
       "      <th></th>\n",
       "      <th>Date</th>\n",
       "      <th>Day</th>\n",
       "      <th>Temperature</th>\n",
       "      <th>Rainfall</th>\n",
       "      <th>Flyers</th>\n",
       "      <th>Price</th>\n",
       "      <th>Sales</th>\n",
       "      <th>z_Temp</th>\n",
       "      <th>z_Flyer</th>\n",
       "      <th>Temp &gt; 2</th>\n",
       "      <th>Temp &gt; 3</th>\n",
       "      <th>Flyer &gt; 2</th>\n",
       "      <th>Flyer &gt; 3</th>\n",
       "    </tr>\n",
       "  </thead>\n",
       "  <tbody>\n",
       "    <tr>\n",
       "      <th>41</th>\n",
       "      <td>2/11/17</td>\n",
       "      <td>Saturday</td>\n",
       "      <td>212.0</td>\n",
       "      <td>0.91</td>\n",
       "      <td>35</td>\n",
       "      <td>0.5</td>\n",
       "      <td>21</td>\n",
       "      <td>8.336627</td>\n",
       "      <td>-0.370227</td>\n",
       "      <td>True</td>\n",
       "      <td>True</td>\n",
       "      <td>True</td>\n",
       "      <td>True</td>\n",
       "    </tr>\n",
       "  </tbody>\n",
       "</table>\n",
       "</div>"
      ],
      "text/plain": [
       "       Date       Day  Temperature  Rainfall  Flyers  Price  Sales    z_Temp  \\\n",
       "41  2/11/17  Saturday        212.0      0.91      35    0.5     21  8.336627   \n",
       "\n",
       "     z_Flyer  Temp > 2  Temp > 3  Flyer > 2  Flyer > 3  \n",
       "41 -0.370227      True      True       True       True  "
      ]
     },
     "execution_count": 119,
     "metadata": {},
     "output_type": "execute_result"
    }
   ],
   "source": [
    "print('Observations outside of x3 standard deviations of Flyer')\n",
    "df[df['Flyer > 3'] == True]"
   ]
  },
  {
   "cell_type": "code",
   "execution_count": 163,
   "id": "07a535d1",
   "metadata": {},
   "outputs": [
    {
     "data": {
      "image/png": "[encoded data removed]",
      "text/plain": [
       "<Figure size 720x432 with 1 Axes>"
      ]
     },
     "metadata": {},
     "output_type": "display_data"
    }
   ],
   "source": [
    "df.Flyers.hist(figsize = (10, 6))\n",
    "plt.axvline(df.Flyers.median(), color = 'r', linestyle = 'dashed', linewidth = 2)\n",
    "plt.title('Distribution of Flyers Column')\n",
    "plt.show()\n"
   ]
  },
  {
   "cell_type": "code",
   "execution_count": null,
   "id": "0393ae37",
   "metadata": {},
   "outputs": [],
   "source": []
  }
 ],
 "metadata": {
  "kernelspec": {
   "display_name": "Python 3",
   "language": "python",
   "name": "python3"
  },
  "language_info": {
   "codemirror_mode": {
    "name": "ipython",
    "version": 3
   },
   "file_extension": ".py",
   "mimetype": "text/x-python",
   "name": "python",
   "nbconvert_exporter": "python",
   "pygments_lexer": "ipython3",
   "version": "3.8.8"
  }
 },
 "nbformat": 4,
 "nbformat_minor": 5
}
