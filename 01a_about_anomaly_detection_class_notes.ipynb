{
 "cells": [
  {
   "cell_type": "markdown",
   "id": "470405de",
   "metadata": {},
   "source": [
    "- The best way to detect outliers is to know your domain.\n",
    "- One person's noise is another person's signal. Context is important. \n",
    "- The decision rule for whether something is an inlier/outlier is usually decided by cost/benefit analysis (FP vs FN).\n",
    "- Techniques for Detecting Anomalies:\n",
    "    - Statistical methods\n",
    "    - Machine learning\n",
    "        - Support Vector Machine\n",
    "        - Isolation Forest Anomal Detection\n",
    "    - Cluster based anomaly detection\n",
    "    - Density based anomlay detection\n",
    "- Anomaly detection can be vulnerable to overfitting."
   ]
  },
  {
   "cell_type": "markdown",
   "id": "d5b536bd",
   "metadata": {},
   "source": [
    "## Resources\n",
    "- [sklearn anomaly detection](https://scikit-learn.org/stable/modules/outlier_detection.html)\n",
    "- [github anomaly detection resources](https://github.com/yzhao062/anomaly-detection-resources)"
   ]
  },
  {
   "cell_type": "code",
   "execution_count": null,
   "id": "399ab6e5",
   "metadata": {},
   "outputs": [],
   "source": []
  }
 ],
 "metadata": {
  "kernelspec": {
   "display_name": "Python 3",
   "language": "python",
   "name": "python3"
  },
  "language_info": {
   "codemirror_mode": {
    "name": "ipython",
    "version": 3
   },
   "file_extension": ".py",
   "mimetype": "text/x-python",
   "name": "python",
   "nbconvert_exporter": "python",
   "pygments_lexer": "ipython3",
   "version": "3.8.8"
  }
 },
 "nbformat": 4,
 "nbformat_minor": 5
}
